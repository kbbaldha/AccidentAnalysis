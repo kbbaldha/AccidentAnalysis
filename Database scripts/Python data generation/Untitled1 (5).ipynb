{
 "cells": [
  {
   "cell_type": "code",
   "execution_count": 1,
   "metadata": {
    "collapsed": true
   },
   "outputs": [],
   "source": [
    "import pandas"
   ]
  },
  {
   "cell_type": "code",
   "execution_count": 2,
   "metadata": {
    "collapsed": true
   },
   "outputs": [],
   "source": [
    "from faker import Factory\n",
    "import random\n",
    "import names\n",
    "import pandas as pd\n",
    "import numpy as np\n",
    "%matplotlib inline\n",
    "faker = Factory.create()\n",
    "status = 'created,delivered,returned'.split(',')"
   ]
  },
  {
   "cell_type": "code",
   "execution_count": 180,
   "metadata": {
    "collapsed": false
   },
   "outputs": [],
   "source": [
    "def fakerecord():\n",
    "    return {'lane_id': faker.numerify('######'),  # random number eg:235533\n",
    "            \n",
    "            'speed': random.choice([25,30,35,40,45,50,55,60,65,70]),  # id's eg:1,20,28,27\n",
    "          \n",
    "            }\n",
    "\n",
    "example_dummy_data = pd.DataFrame([fakerecord() for _ in range(150)])"
   ]
  },
  {
   "cell_type": "code",
   "execution_count": null,
   "metadata": {
    "collapsed": true
   },
   "outputs": [],
   "source": []
  },
  {
   "cell_type": "code",
   "execution_count": 181,
   "metadata": {
    "collapsed": false
   },
   "outputs": [
    {
     "data": {
      "text/html": [
       "<div>\n",
       "<table border=\"1\" class=\"dataframe\">\n",
       "  <thead>\n",
       "    <tr style=\"text-align: right;\">\n",
       "      <th></th>\n",
       "      <th>lane_id</th>\n",
       "      <th>speed</th>\n",
       "    </tr>\n",
       "  </thead>\n",
       "  <tbody>\n",
       "    <tr>\n",
       "      <th>0</th>\n",
       "      <td>281351</td>\n",
       "      <td>30</td>\n",
       "    </tr>\n",
       "    <tr>\n",
       "      <th>1</th>\n",
       "      <td>632209</td>\n",
       "      <td>50</td>\n",
       "    </tr>\n",
       "    <tr>\n",
       "      <th>2</th>\n",
       "      <td>352598</td>\n",
       "      <td>65</td>\n",
       "    </tr>\n",
       "    <tr>\n",
       "      <th>3</th>\n",
       "      <td>643716</td>\n",
       "      <td>35</td>\n",
       "    </tr>\n",
       "    <tr>\n",
       "      <th>4</th>\n",
       "      <td>934753</td>\n",
       "      <td>35</td>\n",
       "    </tr>\n",
       "    <tr>\n",
       "      <th>5</th>\n",
       "      <td>654894</td>\n",
       "      <td>45</td>\n",
       "    </tr>\n",
       "    <tr>\n",
       "      <th>6</th>\n",
       "      <td>593458</td>\n",
       "      <td>70</td>\n",
       "    </tr>\n",
       "    <tr>\n",
       "      <th>7</th>\n",
       "      <td>940636</td>\n",
       "      <td>50</td>\n",
       "    </tr>\n",
       "    <tr>\n",
       "      <th>8</th>\n",
       "      <td>017089</td>\n",
       "      <td>55</td>\n",
       "    </tr>\n",
       "    <tr>\n",
       "      <th>9</th>\n",
       "      <td>471377</td>\n",
       "      <td>50</td>\n",
       "    </tr>\n",
       "    <tr>\n",
       "      <th>10</th>\n",
       "      <td>440669</td>\n",
       "      <td>25</td>\n",
       "    </tr>\n",
       "    <tr>\n",
       "      <th>11</th>\n",
       "      <td>507148</td>\n",
       "      <td>40</td>\n",
       "    </tr>\n",
       "    <tr>\n",
       "      <th>12</th>\n",
       "      <td>963209</td>\n",
       "      <td>65</td>\n",
       "    </tr>\n",
       "    <tr>\n",
       "      <th>13</th>\n",
       "      <td>207028</td>\n",
       "      <td>70</td>\n",
       "    </tr>\n",
       "    <tr>\n",
       "      <th>14</th>\n",
       "      <td>352722</td>\n",
       "      <td>50</td>\n",
       "    </tr>\n",
       "    <tr>\n",
       "      <th>15</th>\n",
       "      <td>569494</td>\n",
       "      <td>55</td>\n",
       "    </tr>\n",
       "    <tr>\n",
       "      <th>16</th>\n",
       "      <td>826431</td>\n",
       "      <td>60</td>\n",
       "    </tr>\n",
       "    <tr>\n",
       "      <th>17</th>\n",
       "      <td>250940</td>\n",
       "      <td>50</td>\n",
       "    </tr>\n",
       "    <tr>\n",
       "      <th>18</th>\n",
       "      <td>521695</td>\n",
       "      <td>70</td>\n",
       "    </tr>\n",
       "    <tr>\n",
       "      <th>19</th>\n",
       "      <td>441682</td>\n",
       "      <td>25</td>\n",
       "    </tr>\n",
       "    <tr>\n",
       "      <th>20</th>\n",
       "      <td>562175</td>\n",
       "      <td>45</td>\n",
       "    </tr>\n",
       "    <tr>\n",
       "      <th>21</th>\n",
       "      <td>465352</td>\n",
       "      <td>25</td>\n",
       "    </tr>\n",
       "    <tr>\n",
       "      <th>22</th>\n",
       "      <td>136013</td>\n",
       "      <td>50</td>\n",
       "    </tr>\n",
       "    <tr>\n",
       "      <th>23</th>\n",
       "      <td>869832</td>\n",
       "      <td>70</td>\n",
       "    </tr>\n",
       "    <tr>\n",
       "      <th>24</th>\n",
       "      <td>508537</td>\n",
       "      <td>70</td>\n",
       "    </tr>\n",
       "    <tr>\n",
       "      <th>25</th>\n",
       "      <td>113536</td>\n",
       "      <td>70</td>\n",
       "    </tr>\n",
       "    <tr>\n",
       "      <th>26</th>\n",
       "      <td>487642</td>\n",
       "      <td>65</td>\n",
       "    </tr>\n",
       "    <tr>\n",
       "      <th>27</th>\n",
       "      <td>625127</td>\n",
       "      <td>70</td>\n",
       "    </tr>\n",
       "    <tr>\n",
       "      <th>28</th>\n",
       "      <td>041133</td>\n",
       "      <td>35</td>\n",
       "    </tr>\n",
       "    <tr>\n",
       "      <th>29</th>\n",
       "      <td>289210</td>\n",
       "      <td>35</td>\n",
       "    </tr>\n",
       "    <tr>\n",
       "      <th>...</th>\n",
       "      <td>...</td>\n",
       "      <td>...</td>\n",
       "    </tr>\n",
       "    <tr>\n",
       "      <th>120</th>\n",
       "      <td>082151</td>\n",
       "      <td>55</td>\n",
       "    </tr>\n",
       "    <tr>\n",
       "      <th>121</th>\n",
       "      <td>529160</td>\n",
       "      <td>50</td>\n",
       "    </tr>\n",
       "    <tr>\n",
       "      <th>122</th>\n",
       "      <td>168368</td>\n",
       "      <td>30</td>\n",
       "    </tr>\n",
       "    <tr>\n",
       "      <th>123</th>\n",
       "      <td>820255</td>\n",
       "      <td>25</td>\n",
       "    </tr>\n",
       "    <tr>\n",
       "      <th>124</th>\n",
       "      <td>999404</td>\n",
       "      <td>50</td>\n",
       "    </tr>\n",
       "    <tr>\n",
       "      <th>125</th>\n",
       "      <td>449676</td>\n",
       "      <td>60</td>\n",
       "    </tr>\n",
       "    <tr>\n",
       "      <th>126</th>\n",
       "      <td>685403</td>\n",
       "      <td>25</td>\n",
       "    </tr>\n",
       "    <tr>\n",
       "      <th>127</th>\n",
       "      <td>851687</td>\n",
       "      <td>70</td>\n",
       "    </tr>\n",
       "    <tr>\n",
       "      <th>128</th>\n",
       "      <td>582571</td>\n",
       "      <td>35</td>\n",
       "    </tr>\n",
       "    <tr>\n",
       "      <th>129</th>\n",
       "      <td>002202</td>\n",
       "      <td>35</td>\n",
       "    </tr>\n",
       "    <tr>\n",
       "      <th>130</th>\n",
       "      <td>314555</td>\n",
       "      <td>40</td>\n",
       "    </tr>\n",
       "    <tr>\n",
       "      <th>131</th>\n",
       "      <td>664431</td>\n",
       "      <td>35</td>\n",
       "    </tr>\n",
       "    <tr>\n",
       "      <th>132</th>\n",
       "      <td>269023</td>\n",
       "      <td>50</td>\n",
       "    </tr>\n",
       "    <tr>\n",
       "      <th>133</th>\n",
       "      <td>417357</td>\n",
       "      <td>45</td>\n",
       "    </tr>\n",
       "    <tr>\n",
       "      <th>134</th>\n",
       "      <td>176258</td>\n",
       "      <td>30</td>\n",
       "    </tr>\n",
       "    <tr>\n",
       "      <th>135</th>\n",
       "      <td>374102</td>\n",
       "      <td>65</td>\n",
       "    </tr>\n",
       "    <tr>\n",
       "      <th>136</th>\n",
       "      <td>257439</td>\n",
       "      <td>30</td>\n",
       "    </tr>\n",
       "    <tr>\n",
       "      <th>137</th>\n",
       "      <td>923958</td>\n",
       "      <td>60</td>\n",
       "    </tr>\n",
       "    <tr>\n",
       "      <th>138</th>\n",
       "      <td>085303</td>\n",
       "      <td>65</td>\n",
       "    </tr>\n",
       "    <tr>\n",
       "      <th>139</th>\n",
       "      <td>530213</td>\n",
       "      <td>30</td>\n",
       "    </tr>\n",
       "    <tr>\n",
       "      <th>140</th>\n",
       "      <td>443557</td>\n",
       "      <td>55</td>\n",
       "    </tr>\n",
       "    <tr>\n",
       "      <th>141</th>\n",
       "      <td>245372</td>\n",
       "      <td>40</td>\n",
       "    </tr>\n",
       "    <tr>\n",
       "      <th>142</th>\n",
       "      <td>815749</td>\n",
       "      <td>35</td>\n",
       "    </tr>\n",
       "    <tr>\n",
       "      <th>143</th>\n",
       "      <td>355752</td>\n",
       "      <td>25</td>\n",
       "    </tr>\n",
       "    <tr>\n",
       "      <th>144</th>\n",
       "      <td>567841</td>\n",
       "      <td>45</td>\n",
       "    </tr>\n",
       "    <tr>\n",
       "      <th>145</th>\n",
       "      <td>691003</td>\n",
       "      <td>50</td>\n",
       "    </tr>\n",
       "    <tr>\n",
       "      <th>146</th>\n",
       "      <td>246662</td>\n",
       "      <td>50</td>\n",
       "    </tr>\n",
       "    <tr>\n",
       "      <th>147</th>\n",
       "      <td>199123</td>\n",
       "      <td>40</td>\n",
       "    </tr>\n",
       "    <tr>\n",
       "      <th>148</th>\n",
       "      <td>236544</td>\n",
       "      <td>35</td>\n",
       "    </tr>\n",
       "    <tr>\n",
       "      <th>149</th>\n",
       "      <td>807135</td>\n",
       "      <td>35</td>\n",
       "    </tr>\n",
       "  </tbody>\n",
       "</table>\n",
       "<p>150 rows × 2 columns</p>\n",
       "</div>"
      ],
      "text/plain": [
       "    lane_id  speed\n",
       "0    281351     30\n",
       "1    632209     50\n",
       "2    352598     65\n",
       "3    643716     35\n",
       "4    934753     35\n",
       "5    654894     45\n",
       "6    593458     70\n",
       "7    940636     50\n",
       "8    017089     55\n",
       "9    471377     50\n",
       "10   440669     25\n",
       "11   507148     40\n",
       "12   963209     65\n",
       "13   207028     70\n",
       "14   352722     50\n",
       "15   569494     55\n",
       "16   826431     60\n",
       "17   250940     50\n",
       "18   521695     70\n",
       "19   441682     25\n",
       "20   562175     45\n",
       "21   465352     25\n",
       "22   136013     50\n",
       "23   869832     70\n",
       "24   508537     70\n",
       "25   113536     70\n",
       "26   487642     65\n",
       "27   625127     70\n",
       "28   041133     35\n",
       "29   289210     35\n",
       "..      ...    ...\n",
       "120  082151     55\n",
       "121  529160     50\n",
       "122  168368     30\n",
       "123  820255     25\n",
       "124  999404     50\n",
       "125  449676     60\n",
       "126  685403     25\n",
       "127  851687     70\n",
       "128  582571     35\n",
       "129  002202     35\n",
       "130  314555     40\n",
       "131  664431     35\n",
       "132  269023     50\n",
       "133  417357     45\n",
       "134  176258     30\n",
       "135  374102     65\n",
       "136  257439     30\n",
       "137  923958     60\n",
       "138  085303     65\n",
       "139  530213     30\n",
       "140  443557     55\n",
       "141  245372     40\n",
       "142  815749     35\n",
       "143  355752     25\n",
       "144  567841     45\n",
       "145  691003     50\n",
       "146  246662     50\n",
       "147  199123     40\n",
       "148  236544     35\n",
       "149  807135     35\n",
       "\n",
       "[150 rows x 2 columns]"
      ]
     },
     "execution_count": 181,
     "metadata": {},
     "output_type": "execute_result"
    }
   ],
   "source": [
    "example_dummy_data"
   ]
  },
  {
   "cell_type": "code",
   "execution_count": 182,
   "metadata": {
    "collapsed": false
   },
   "outputs": [],
   "source": [
    "writer = pd.ExcelWriter('LANE.xlsx', engine='xlsxwriter')\n",
    "example_dummy_data.to_excel(writer, sheet_name='Sheet1')\n",
    "writer.save()"
   ]
  },
  {
   "cell_type": "code",
   "execution_count": null,
   "metadata": {
    "collapsed": true
   },
   "outputs": [],
   "source": []
  },
  {
   "cell_type": "code",
   "execution_count": null,
   "metadata": {
    "collapsed": true
   },
   "outputs": [],
   "source": []
  },
  {
   "cell_type": "code",
   "execution_count": null,
   "metadata": {
    "collapsed": true
   },
   "outputs": [],
   "source": []
  },
  {
   "cell_type": "code",
   "execution_count": 177,
   "metadata": {
    "collapsed": false
   },
   "outputs": [
    {
     "data": {
      "text/html": [
       "<div>\n",
       "<table border=\"1\" class=\"dataframe\">\n",
       "  <thead>\n",
       "    <tr style=\"text-align: right;\">\n",
       "      <th></th>\n",
       "      <th>City</th>\n",
       "      <th>Name</th>\n",
       "      <th>Password</th>\n",
       "      <th>Phone_Number</th>\n",
       "      <th>State</th>\n",
       "      <th>Street</th>\n",
       "      <th>Type</th>\n",
       "      <th>Zip</th>\n",
       "      <th>gender</th>\n",
       "    </tr>\n",
       "  </thead>\n",
       "  <tbody>\n",
       "    <tr>\n",
       "      <th>0</th>\n",
       "      <td>Scappoose</td>\n",
       "      <td>Shelley Betancourt</td>\n",
       "      <td>password</td>\n",
       "      <td>262-065-4271</td>\n",
       "      <td>NJ</td>\n",
       "      <td>4346 Thornbranch Trail</td>\n",
       "      <td>Civilian</td>\n",
       "      <td>25920</td>\n",
       "      <td>F</td>\n",
       "    </tr>\n",
       "    <tr>\n",
       "      <th>1</th>\n",
       "      <td>Leck Kill</td>\n",
       "      <td>Jan Maloney</td>\n",
       "      <td>password</td>\n",
       "      <td>553-098-1973</td>\n",
       "      <td>TX</td>\n",
       "      <td>9895 Sunset Circle</td>\n",
       "      <td>Transport official</td>\n",
       "      <td>94660</td>\n",
       "      <td>M</td>\n",
       "    </tr>\n",
       "    <tr>\n",
       "      <th>2</th>\n",
       "      <td>Moline</td>\n",
       "      <td>Erica Clifton</td>\n",
       "      <td>password</td>\n",
       "      <td>637-508-3871</td>\n",
       "      <td>CO</td>\n",
       "      <td>8324 Port Charlotte Circle</td>\n",
       "      <td>Transport official</td>\n",
       "      <td>99506</td>\n",
       "      <td>F</td>\n",
       "    </tr>\n",
       "    <tr>\n",
       "      <th>3</th>\n",
       "      <td>Bakersfield</td>\n",
       "      <td>Diane Blevins</td>\n",
       "      <td>password</td>\n",
       "      <td>857-812-6597</td>\n",
       "      <td>NY</td>\n",
       "      <td>2652 Stags Leap Circle</td>\n",
       "      <td>Civilian</td>\n",
       "      <td>53403</td>\n",
       "      <td>F</td>\n",
       "    </tr>\n",
       "    <tr>\n",
       "      <th>4</th>\n",
       "      <td>Annawan</td>\n",
       "      <td>Heather Young</td>\n",
       "      <td>password</td>\n",
       "      <td>622-200-3829</td>\n",
       "      <td>SD</td>\n",
       "      <td>5337 Walworth Cove</td>\n",
       "      <td>Transport official</td>\n",
       "      <td>42343</td>\n",
       "      <td>F</td>\n",
       "    </tr>\n",
       "    <tr>\n",
       "      <th>5</th>\n",
       "      <td>Lava Hot Springs</td>\n",
       "      <td>Moses Delia</td>\n",
       "      <td>password</td>\n",
       "      <td>937-550-1644</td>\n",
       "      <td>MO</td>\n",
       "      <td>3264 Gainesway Drive</td>\n",
       "      <td>Civilian</td>\n",
       "      <td>07825</td>\n",
       "      <td>M</td>\n",
       "    </tr>\n",
       "    <tr>\n",
       "      <th>6</th>\n",
       "      <td>Mountain View</td>\n",
       "      <td>Amy Witt</td>\n",
       "      <td>password</td>\n",
       "      <td>977-325-5130</td>\n",
       "      <td>WI</td>\n",
       "      <td>4941 Deep Valley Lane</td>\n",
       "      <td>Civilian</td>\n",
       "      <td>58365</td>\n",
       "      <td>F</td>\n",
       "    </tr>\n",
       "    <tr>\n",
       "      <th>7</th>\n",
       "      <td>Sainte Genevieve</td>\n",
       "      <td>Todd Hampton</td>\n",
       "      <td>password</td>\n",
       "      <td>827-702-9186</td>\n",
       "      <td>NH</td>\n",
       "      <td>8789 Meadow Wood Way</td>\n",
       "      <td>Civilian</td>\n",
       "      <td>95108</td>\n",
       "      <td>M</td>\n",
       "    </tr>\n",
       "    <tr>\n",
       "      <th>8</th>\n",
       "      <td>Pecos</td>\n",
       "      <td>Ashley Bennett</td>\n",
       "      <td>password</td>\n",
       "      <td>388-957-9444</td>\n",
       "      <td>OH</td>\n",
       "      <td>4086 Belfort Trail</td>\n",
       "      <td>Transport official</td>\n",
       "      <td>17343</td>\n",
       "      <td>F</td>\n",
       "    </tr>\n",
       "    <tr>\n",
       "      <th>9</th>\n",
       "      <td>Wales</td>\n",
       "      <td>Leon Marquez</td>\n",
       "      <td>password</td>\n",
       "      <td>711-174-3680</td>\n",
       "      <td>AZ</td>\n",
       "      <td>9450 Dogwood Crest Cove</td>\n",
       "      <td>Transport official</td>\n",
       "      <td>98612</td>\n",
       "      <td>M</td>\n",
       "    </tr>\n",
       "    <tr>\n",
       "      <th>10</th>\n",
       "      <td>Tuppers Plains</td>\n",
       "      <td>Oscar Flynn</td>\n",
       "      <td>password</td>\n",
       "      <td>101-514-0659</td>\n",
       "      <td>IL</td>\n",
       "      <td>5332 Grenville Circle</td>\n",
       "      <td>Transport official</td>\n",
       "      <td>20717</td>\n",
       "      <td>M</td>\n",
       "    </tr>\n",
       "    <tr>\n",
       "      <th>11</th>\n",
       "      <td>Itta Bena</td>\n",
       "      <td>Sylvia Warrington</td>\n",
       "      <td>password</td>\n",
       "      <td>194-736-4840</td>\n",
       "      <td>MO</td>\n",
       "      <td>7205 Trail Hollow Parkway</td>\n",
       "      <td>Civilian</td>\n",
       "      <td>60564</td>\n",
       "      <td>F</td>\n",
       "    </tr>\n",
       "    <tr>\n",
       "      <th>12</th>\n",
       "      <td>Lansing</td>\n",
       "      <td>Yvonne Mcshane</td>\n",
       "      <td>password</td>\n",
       "      <td>523-862-5407</td>\n",
       "      <td>NE</td>\n",
       "      <td>9456 Hidden Parkway</td>\n",
       "      <td>Transport official</td>\n",
       "      <td>08020</td>\n",
       "      <td>F</td>\n",
       "    </tr>\n",
       "    <tr>\n",
       "      <th>13</th>\n",
       "      <td>Radom</td>\n",
       "      <td>Rhonda Weekes</td>\n",
       "      <td>password</td>\n",
       "      <td>256-594-2450</td>\n",
       "      <td>MN</td>\n",
       "      <td>3813 Indian Creek Trail</td>\n",
       "      <td>Transport official</td>\n",
       "      <td>57778</td>\n",
       "      <td>F</td>\n",
       "    </tr>\n",
       "    <tr>\n",
       "      <th>14</th>\n",
       "      <td>Bronx</td>\n",
       "      <td>Christopher Weiss</td>\n",
       "      <td>password</td>\n",
       "      <td>992-023-3735</td>\n",
       "      <td>WI</td>\n",
       "      <td>2147 Taylorcrest Trail</td>\n",
       "      <td>Civilian</td>\n",
       "      <td>33174</td>\n",
       "      <td>M</td>\n",
       "    </tr>\n",
       "    <tr>\n",
       "      <th>15</th>\n",
       "      <td>Metairie</td>\n",
       "      <td>Matthew Rodriguez</td>\n",
       "      <td>password</td>\n",
       "      <td>707-737-2878</td>\n",
       "      <td>TX</td>\n",
       "      <td>4876 Radbrook Way</td>\n",
       "      <td>Civilian</td>\n",
       "      <td>80321</td>\n",
       "      <td>M</td>\n",
       "    </tr>\n",
       "    <tr>\n",
       "      <th>16</th>\n",
       "      <td>Westfield</td>\n",
       "      <td>Raymond Large</td>\n",
       "      <td>password</td>\n",
       "      <td>090-344-9483</td>\n",
       "      <td>SC</td>\n",
       "      <td>6435 Heatherly Trail</td>\n",
       "      <td>Transport official</td>\n",
       "      <td>88220</td>\n",
       "      <td>M</td>\n",
       "    </tr>\n",
       "    <tr>\n",
       "      <th>17</th>\n",
       "      <td>Greenbush</td>\n",
       "      <td>Brenda Martin</td>\n",
       "      <td>password</td>\n",
       "      <td>886-713-8528</td>\n",
       "      <td>CA</td>\n",
       "      <td>9241 Oakleigh Avenue</td>\n",
       "      <td>Transport official</td>\n",
       "      <td>19040</td>\n",
       "      <td>F</td>\n",
       "    </tr>\n",
       "    <tr>\n",
       "      <th>18</th>\n",
       "      <td>Apple Grove</td>\n",
       "      <td>Pete Mcgurk</td>\n",
       "      <td>password</td>\n",
       "      <td>650-151-6519</td>\n",
       "      <td>OH</td>\n",
       "      <td>3320 Chatsworth Way</td>\n",
       "      <td>Civilian</td>\n",
       "      <td>44615</td>\n",
       "      <td>M</td>\n",
       "    </tr>\n",
       "    <tr>\n",
       "      <th>19</th>\n",
       "      <td>Bethlehem</td>\n",
       "      <td>Sheila Ramos</td>\n",
       "      <td>password</td>\n",
       "      <td>863-582-1993</td>\n",
       "      <td>WA</td>\n",
       "      <td>5079 Wood Briar Trail</td>\n",
       "      <td>Transport official</td>\n",
       "      <td>17087</td>\n",
       "      <td>F</td>\n",
       "    </tr>\n",
       "    <tr>\n",
       "      <th>20</th>\n",
       "      <td>Albany</td>\n",
       "      <td>Thelma Lambert</td>\n",
       "      <td>password</td>\n",
       "      <td>014-577-4235</td>\n",
       "      <td>KS</td>\n",
       "      <td>9718 Deer Cove</td>\n",
       "      <td>Civilian</td>\n",
       "      <td>19390</td>\n",
       "      <td>F</td>\n",
       "    </tr>\n",
       "    <tr>\n",
       "      <th>21</th>\n",
       "      <td>Vass</td>\n",
       "      <td>William Ortiz</td>\n",
       "      <td>password</td>\n",
       "      <td>697-832-1753</td>\n",
       "      <td>OH</td>\n",
       "      <td>93 Silkwood Avenue</td>\n",
       "      <td>Transport official</td>\n",
       "      <td>79029</td>\n",
       "      <td>M</td>\n",
       "    </tr>\n",
       "    <tr>\n",
       "      <th>22</th>\n",
       "      <td>Mammoth Spring</td>\n",
       "      <td>Gail White</td>\n",
       "      <td>password</td>\n",
       "      <td>163-628-4615</td>\n",
       "      <td>TX</td>\n",
       "      <td>4197 Dellwood Lane</td>\n",
       "      <td>Transport official</td>\n",
       "      <td>30110</td>\n",
       "      <td>F</td>\n",
       "    </tr>\n",
       "    <tr>\n",
       "      <th>23</th>\n",
       "      <td>Huntsville</td>\n",
       "      <td>Roberta Lussier</td>\n",
       "      <td>password</td>\n",
       "      <td>227-077-2282</td>\n",
       "      <td>LA</td>\n",
       "      <td>8751 Barkers Trail</td>\n",
       "      <td>Transport official</td>\n",
       "      <td>99634</td>\n",
       "      <td>F</td>\n",
       "    </tr>\n",
       "    <tr>\n",
       "      <th>24</th>\n",
       "      <td>Earth City</td>\n",
       "      <td>Christine Copeland</td>\n",
       "      <td>password</td>\n",
       "      <td>219-573-5896</td>\n",
       "      <td>PA</td>\n",
       "      <td>8239 Holly Hill Street</td>\n",
       "      <td>Civilian</td>\n",
       "      <td>42749</td>\n",
       "      <td>F</td>\n",
       "    </tr>\n",
       "    <tr>\n",
       "      <th>25</th>\n",
       "      <td>Belford</td>\n",
       "      <td>Bianca Buchanon</td>\n",
       "      <td>password</td>\n",
       "      <td>048-607-7820</td>\n",
       "      <td>GA</td>\n",
       "      <td>9115 Canella Parkway</td>\n",
       "      <td>Civilian</td>\n",
       "      <td>49713</td>\n",
       "      <td>F</td>\n",
       "    </tr>\n",
       "    <tr>\n",
       "      <th>26</th>\n",
       "      <td>Rice Lake</td>\n",
       "      <td>Debra Campbell</td>\n",
       "      <td>password</td>\n",
       "      <td>311-466-6953</td>\n",
       "      <td>OH</td>\n",
       "      <td>8852 Pine Hollow Circle</td>\n",
       "      <td>Civilian</td>\n",
       "      <td>58109</td>\n",
       "      <td>F</td>\n",
       "    </tr>\n",
       "    <tr>\n",
       "      <th>27</th>\n",
       "      <td>Franklinville</td>\n",
       "      <td>Mark Butler</td>\n",
       "      <td>password</td>\n",
       "      <td>116-538-8271</td>\n",
       "      <td>IL</td>\n",
       "      <td>5704 Lecuyer Cove</td>\n",
       "      <td>Transport official</td>\n",
       "      <td>58654</td>\n",
       "      <td>M</td>\n",
       "    </tr>\n",
       "    <tr>\n",
       "      <th>28</th>\n",
       "      <td>Colorado Springs</td>\n",
       "      <td>Aida Mcdermott</td>\n",
       "      <td>password</td>\n",
       "      <td>098-650-2162</td>\n",
       "      <td>MA</td>\n",
       "      <td>4595 Parade Parkway</td>\n",
       "      <td>Civilian</td>\n",
       "      <td>28587</td>\n",
       "      <td>F</td>\n",
       "    </tr>\n",
       "    <tr>\n",
       "      <th>29</th>\n",
       "      <td>Winfield</td>\n",
       "      <td>Katie Wheeler</td>\n",
       "      <td>password</td>\n",
       "      <td>857-512-6791</td>\n",
       "      <td>TX</td>\n",
       "      <td>6217 Paul Avenue</td>\n",
       "      <td>Civilian</td>\n",
       "      <td>59111</td>\n",
       "      <td>F</td>\n",
       "    </tr>\n",
       "    <tr>\n",
       "      <th>...</th>\n",
       "      <td>...</td>\n",
       "      <td>...</td>\n",
       "      <td>...</td>\n",
       "      <td>...</td>\n",
       "      <td>...</td>\n",
       "      <td>...</td>\n",
       "      <td>...</td>\n",
       "      <td>...</td>\n",
       "      <td>...</td>\n",
       "    </tr>\n",
       "    <tr>\n",
       "      <th>1470</th>\n",
       "      <td>Green River</td>\n",
       "      <td>Daniel Dube</td>\n",
       "      <td>password</td>\n",
       "      <td>991-541-6921</td>\n",
       "      <td>LA</td>\n",
       "      <td>310 Paddock Parkway</td>\n",
       "      <td>Civilian</td>\n",
       "      <td>65627</td>\n",
       "      <td>M</td>\n",
       "    </tr>\n",
       "    <tr>\n",
       "      <th>1471</th>\n",
       "      <td>Memphis</td>\n",
       "      <td>Sandra Woomer</td>\n",
       "      <td>password</td>\n",
       "      <td>479-386-4289</td>\n",
       "      <td>TX</td>\n",
       "      <td>8033 Kellywood Circle</td>\n",
       "      <td>Civilian</td>\n",
       "      <td>89103</td>\n",
       "      <td>F</td>\n",
       "    </tr>\n",
       "    <tr>\n",
       "      <th>1472</th>\n",
       "      <td>Bishop</td>\n",
       "      <td>Peter Ashley</td>\n",
       "      <td>password</td>\n",
       "      <td>138-025-5324</td>\n",
       "      <td>TX</td>\n",
       "      <td>6176 Whitemarsh Parkway</td>\n",
       "      <td>Civilian</td>\n",
       "      <td>95376</td>\n",
       "      <td>M</td>\n",
       "    </tr>\n",
       "    <tr>\n",
       "      <th>1473</th>\n",
       "      <td>Minneapolis</td>\n",
       "      <td>Nilda Dashner</td>\n",
       "      <td>password</td>\n",
       "      <td>773-274-9407</td>\n",
       "      <td>CA</td>\n",
       "      <td>7622 Park Lane</td>\n",
       "      <td>Civilian</td>\n",
       "      <td>74734</td>\n",
       "      <td>F</td>\n",
       "    </tr>\n",
       "    <tr>\n",
       "      <th>1474</th>\n",
       "      <td>Seney</td>\n",
       "      <td>Paige Loftis</td>\n",
       "      <td>password</td>\n",
       "      <td>203-200-3967</td>\n",
       "      <td>IL</td>\n",
       "      <td>8037 Fiddlers Elbow Avenue</td>\n",
       "      <td>Transport official</td>\n",
       "      <td>79842</td>\n",
       "      <td>F</td>\n",
       "    </tr>\n",
       "    <tr>\n",
       "      <th>1475</th>\n",
       "      <td>Parachute</td>\n",
       "      <td>Brenda Carrillo</td>\n",
       "      <td>password</td>\n",
       "      <td>492-838-3418</td>\n",
       "      <td>VA</td>\n",
       "      <td>8363 Newberry Avenue</td>\n",
       "      <td>Transport official</td>\n",
       "      <td>54153</td>\n",
       "      <td>F</td>\n",
       "    </tr>\n",
       "    <tr>\n",
       "      <th>1476</th>\n",
       "      <td>Waresboro</td>\n",
       "      <td>Albert Overbaugh</td>\n",
       "      <td>password</td>\n",
       "      <td>373-929-1299</td>\n",
       "      <td>NY</td>\n",
       "      <td>6961 Fairmeadows Cove</td>\n",
       "      <td>Transport official</td>\n",
       "      <td>45112</td>\n",
       "      <td>M</td>\n",
       "    </tr>\n",
       "    <tr>\n",
       "      <th>1477</th>\n",
       "      <td>Topeka</td>\n",
       "      <td>Thurman Novoa</td>\n",
       "      <td>password</td>\n",
       "      <td>597-603-3880</td>\n",
       "      <td>NJ</td>\n",
       "      <td>5927 Forest Hill Lane</td>\n",
       "      <td>Transport official</td>\n",
       "      <td>32725</td>\n",
       "      <td>M</td>\n",
       "    </tr>\n",
       "    <tr>\n",
       "      <th>1478</th>\n",
       "      <td>South Lee</td>\n",
       "      <td>Nancy Delrosso</td>\n",
       "      <td>password</td>\n",
       "      <td>393-952-2635</td>\n",
       "      <td>PA</td>\n",
       "      <td>3490 Curve Crest Lane</td>\n",
       "      <td>Civilian</td>\n",
       "      <td>01546</td>\n",
       "      <td>F</td>\n",
       "    </tr>\n",
       "    <tr>\n",
       "      <th>1479</th>\n",
       "      <td>Little Rock</td>\n",
       "      <td>Scott Cerezo</td>\n",
       "      <td>password</td>\n",
       "      <td>359-751-6371</td>\n",
       "      <td>WA</td>\n",
       "      <td>5792 Stonebridge Circle</td>\n",
       "      <td>Transport official</td>\n",
       "      <td>51242</td>\n",
       "      <td>M</td>\n",
       "    </tr>\n",
       "    <tr>\n",
       "      <th>1480</th>\n",
       "      <td>Big Flats</td>\n",
       "      <td>Jean Guidry</td>\n",
       "      <td>password</td>\n",
       "      <td>006-205-9856</td>\n",
       "      <td>NY</td>\n",
       "      <td>8464 Imperial Circle</td>\n",
       "      <td>Civilian</td>\n",
       "      <td>32247</td>\n",
       "      <td>F</td>\n",
       "    </tr>\n",
       "    <tr>\n",
       "      <th>1481</th>\n",
       "      <td>Chiloquin</td>\n",
       "      <td>John Centeno</td>\n",
       "      <td>password</td>\n",
       "      <td>671-221-4853</td>\n",
       "      <td>CA</td>\n",
       "      <td>8704 Morgan Way</td>\n",
       "      <td>Civilian</td>\n",
       "      <td>98664</td>\n",
       "      <td>M</td>\n",
       "    </tr>\n",
       "    <tr>\n",
       "      <th>1482</th>\n",
       "      <td>Hunt Valley</td>\n",
       "      <td>Louis Srey</td>\n",
       "      <td>password</td>\n",
       "      <td>211-644-1168</td>\n",
       "      <td>OH</td>\n",
       "      <td>4013 Pine Tree Way</td>\n",
       "      <td>Transport official</td>\n",
       "      <td>48312</td>\n",
       "      <td>M</td>\n",
       "    </tr>\n",
       "    <tr>\n",
       "      <th>1483</th>\n",
       "      <td>Staten Island</td>\n",
       "      <td>John Galbreath</td>\n",
       "      <td>password</td>\n",
       "      <td>870-048-9315</td>\n",
       "      <td>NY</td>\n",
       "      <td>3256 Norell Avenue</td>\n",
       "      <td>Civilian</td>\n",
       "      <td>53022</td>\n",
       "      <td>M</td>\n",
       "    </tr>\n",
       "    <tr>\n",
       "      <th>1484</th>\n",
       "      <td>Comanche</td>\n",
       "      <td>Darrell Crissman</td>\n",
       "      <td>password</td>\n",
       "      <td>661-693-0728</td>\n",
       "      <td>NY</td>\n",
       "      <td>8173 Southchester Parkway</td>\n",
       "      <td>Transport official</td>\n",
       "      <td>25140</td>\n",
       "      <td>M</td>\n",
       "    </tr>\n",
       "    <tr>\n",
       "      <th>1485</th>\n",
       "      <td>Springfield</td>\n",
       "      <td>Leonard Jones</td>\n",
       "      <td>password</td>\n",
       "      <td>634-265-1255</td>\n",
       "      <td>KY</td>\n",
       "      <td>2645 Hampton Grove Circle</td>\n",
       "      <td>Civilian</td>\n",
       "      <td>62633</td>\n",
       "      <td>M</td>\n",
       "    </tr>\n",
       "    <tr>\n",
       "      <th>1486</th>\n",
       "      <td>Southbridge</td>\n",
       "      <td>Laura Tschanz</td>\n",
       "      <td>password</td>\n",
       "      <td>326-522-6717</td>\n",
       "      <td>AR</td>\n",
       "      <td>7793 Hunters Run Street</td>\n",
       "      <td>Civilian</td>\n",
       "      <td>26103</td>\n",
       "      <td>F</td>\n",
       "    </tr>\n",
       "    <tr>\n",
       "      <th>1487</th>\n",
       "      <td>Miami</td>\n",
       "      <td>Marcos White</td>\n",
       "      <td>password</td>\n",
       "      <td>593-009-7426</td>\n",
       "      <td>OR</td>\n",
       "      <td>6344 Riverain Way</td>\n",
       "      <td>Transport official</td>\n",
       "      <td>99611</td>\n",
       "      <td>M</td>\n",
       "    </tr>\n",
       "    <tr>\n",
       "      <th>1488</th>\n",
       "      <td>Woodbury</td>\n",
       "      <td>Ellen Hull</td>\n",
       "      <td>password</td>\n",
       "      <td>079-390-5937</td>\n",
       "      <td>MT</td>\n",
       "      <td>2315 Oasis Parkway</td>\n",
       "      <td>Civilian</td>\n",
       "      <td>33243</td>\n",
       "      <td>F</td>\n",
       "    </tr>\n",
       "    <tr>\n",
       "      <th>1489</th>\n",
       "      <td>Bethesda</td>\n",
       "      <td>Samantha Steven</td>\n",
       "      <td>password</td>\n",
       "      <td>493-471-7022</td>\n",
       "      <td>NE</td>\n",
       "      <td>3337 Carters Grove Lane</td>\n",
       "      <td>Civilian</td>\n",
       "      <td>35906</td>\n",
       "      <td>F</td>\n",
       "    </tr>\n",
       "    <tr>\n",
       "      <th>1490</th>\n",
       "      <td>Nashville</td>\n",
       "      <td>Sonia Hansen</td>\n",
       "      <td>password</td>\n",
       "      <td>663-260-6108</td>\n",
       "      <td>LA</td>\n",
       "      <td>9743 Forest Downs Lane</td>\n",
       "      <td>Transport official</td>\n",
       "      <td>84029</td>\n",
       "      <td>F</td>\n",
       "    </tr>\n",
       "    <tr>\n",
       "      <th>1491</th>\n",
       "      <td>Bloomfield</td>\n",
       "      <td>Andrew Myers</td>\n",
       "      <td>password</td>\n",
       "      <td>731-790-7552</td>\n",
       "      <td>KY</td>\n",
       "      <td>2811 Poplar Estates Avenue</td>\n",
       "      <td>Civilian</td>\n",
       "      <td>14171</td>\n",
       "      <td>M</td>\n",
       "    </tr>\n",
       "    <tr>\n",
       "      <th>1492</th>\n",
       "      <td>Drayden</td>\n",
       "      <td>Susan Ray</td>\n",
       "      <td>password</td>\n",
       "      <td>133-227-4465</td>\n",
       "      <td>FL</td>\n",
       "      <td>48 Valley Crest Cove</td>\n",
       "      <td>Civilian</td>\n",
       "      <td>44126</td>\n",
       "      <td>F</td>\n",
       "    </tr>\n",
       "    <tr>\n",
       "      <th>1493</th>\n",
       "      <td>Tyringham</td>\n",
       "      <td>Ryan Wells</td>\n",
       "      <td>password</td>\n",
       "      <td>707-267-9772</td>\n",
       "      <td>TX</td>\n",
       "      <td>4637 Wargate Circle</td>\n",
       "      <td>Civilian</td>\n",
       "      <td>89315</td>\n",
       "      <td>M</td>\n",
       "    </tr>\n",
       "    <tr>\n",
       "      <th>1494</th>\n",
       "      <td>Sacramento</td>\n",
       "      <td>Alexander Knight</td>\n",
       "      <td>password</td>\n",
       "      <td>472-066-5014</td>\n",
       "      <td>AK</td>\n",
       "      <td>2983 Everwood Street</td>\n",
       "      <td>Transport official</td>\n",
       "      <td>54212</td>\n",
       "      <td>M</td>\n",
       "    </tr>\n",
       "    <tr>\n",
       "      <th>1495</th>\n",
       "      <td>Fingal</td>\n",
       "      <td>Kristen Pippin</td>\n",
       "      <td>password</td>\n",
       "      <td>027-753-7611</td>\n",
       "      <td>TX</td>\n",
       "      <td>1086 Cherrybark Way</td>\n",
       "      <td>Transport official</td>\n",
       "      <td>15365</td>\n",
       "      <td>F</td>\n",
       "    </tr>\n",
       "    <tr>\n",
       "      <th>1496</th>\n",
       "      <td>Empire</td>\n",
       "      <td>Pat Goodman</td>\n",
       "      <td>password</td>\n",
       "      <td>579-721-2146</td>\n",
       "      <td>VA</td>\n",
       "      <td>4292 Sweetwood Way</td>\n",
       "      <td>Transport official</td>\n",
       "      <td>14821</td>\n",
       "      <td>M</td>\n",
       "    </tr>\n",
       "    <tr>\n",
       "      <th>1497</th>\n",
       "      <td>Cole Camp</td>\n",
       "      <td>Young Hodge</td>\n",
       "      <td>password</td>\n",
       "      <td>305-869-9710</td>\n",
       "      <td>MA</td>\n",
       "      <td>8889 Shadeley Avenue</td>\n",
       "      <td>Transport official</td>\n",
       "      <td>23395</td>\n",
       "      <td>F</td>\n",
       "    </tr>\n",
       "    <tr>\n",
       "      <th>1498</th>\n",
       "      <td>Aragon</td>\n",
       "      <td>Hilda Collura</td>\n",
       "      <td>password</td>\n",
       "      <td>835-981-7138</td>\n",
       "      <td>CT</td>\n",
       "      <td>9550 Elm Leaf Cove</td>\n",
       "      <td>Civilian</td>\n",
       "      <td>28070</td>\n",
       "      <td>F</td>\n",
       "    </tr>\n",
       "    <tr>\n",
       "      <th>1499</th>\n",
       "      <td>Exeter</td>\n",
       "      <td>Phyllis Rodrigues</td>\n",
       "      <td>password</td>\n",
       "      <td>283-592-7978</td>\n",
       "      <td>PA</td>\n",
       "      <td>9984 Sparkling Lake Lane</td>\n",
       "      <td>Civilian</td>\n",
       "      <td>81503</td>\n",
       "      <td>F</td>\n",
       "    </tr>\n",
       "  </tbody>\n",
       "</table>\n",
       "<p>1500 rows × 9 columns</p>\n",
       "</div>"
      ],
      "text/plain": [
       "                  City                Name  Password  Phone_Number State  \\\n",
       "0            Scappoose  Shelley Betancourt  password  262-065-4271    NJ   \n",
       "1            Leck Kill         Jan Maloney  password  553-098-1973    TX   \n",
       "2               Moline       Erica Clifton  password  637-508-3871    CO   \n",
       "3          Bakersfield       Diane Blevins  password  857-812-6597    NY   \n",
       "4              Annawan       Heather Young  password  622-200-3829    SD   \n",
       "5     Lava Hot Springs         Moses Delia  password  937-550-1644    MO   \n",
       "6        Mountain View            Amy Witt  password  977-325-5130    WI   \n",
       "7     Sainte Genevieve        Todd Hampton  password  827-702-9186    NH   \n",
       "8                Pecos      Ashley Bennett  password  388-957-9444    OH   \n",
       "9                Wales        Leon Marquez  password  711-174-3680    AZ   \n",
       "10      Tuppers Plains         Oscar Flynn  password  101-514-0659    IL   \n",
       "11           Itta Bena   Sylvia Warrington  password  194-736-4840    MO   \n",
       "12             Lansing      Yvonne Mcshane  password  523-862-5407    NE   \n",
       "13               Radom       Rhonda Weekes  password  256-594-2450    MN   \n",
       "14               Bronx   Christopher Weiss  password  992-023-3735    WI   \n",
       "15            Metairie   Matthew Rodriguez  password  707-737-2878    TX   \n",
       "16           Westfield       Raymond Large  password  090-344-9483    SC   \n",
       "17           Greenbush       Brenda Martin  password  886-713-8528    CA   \n",
       "18         Apple Grove         Pete Mcgurk  password  650-151-6519    OH   \n",
       "19           Bethlehem        Sheila Ramos  password  863-582-1993    WA   \n",
       "20              Albany      Thelma Lambert  password  014-577-4235    KS   \n",
       "21                Vass       William Ortiz  password  697-832-1753    OH   \n",
       "22      Mammoth Spring          Gail White  password  163-628-4615    TX   \n",
       "23          Huntsville     Roberta Lussier  password  227-077-2282    LA   \n",
       "24          Earth City  Christine Copeland  password  219-573-5896    PA   \n",
       "25             Belford     Bianca Buchanon  password  048-607-7820    GA   \n",
       "26           Rice Lake      Debra Campbell  password  311-466-6953    OH   \n",
       "27       Franklinville         Mark Butler  password  116-538-8271    IL   \n",
       "28    Colorado Springs      Aida Mcdermott  password  098-650-2162    MA   \n",
       "29            Winfield       Katie Wheeler  password  857-512-6791    TX   \n",
       "...                ...                 ...       ...           ...   ...   \n",
       "1470       Green River         Daniel Dube  password  991-541-6921    LA   \n",
       "1471           Memphis       Sandra Woomer  password  479-386-4289    TX   \n",
       "1472            Bishop        Peter Ashley  password  138-025-5324    TX   \n",
       "1473       Minneapolis       Nilda Dashner  password  773-274-9407    CA   \n",
       "1474             Seney        Paige Loftis  password  203-200-3967    IL   \n",
       "1475         Parachute     Brenda Carrillo  password  492-838-3418    VA   \n",
       "1476         Waresboro    Albert Overbaugh  password  373-929-1299    NY   \n",
       "1477            Topeka       Thurman Novoa  password  597-603-3880    NJ   \n",
       "1478         South Lee      Nancy Delrosso  password  393-952-2635    PA   \n",
       "1479       Little Rock        Scott Cerezo  password  359-751-6371    WA   \n",
       "1480         Big Flats         Jean Guidry  password  006-205-9856    NY   \n",
       "1481         Chiloquin        John Centeno  password  671-221-4853    CA   \n",
       "1482       Hunt Valley          Louis Srey  password  211-644-1168    OH   \n",
       "1483     Staten Island      John Galbreath  password  870-048-9315    NY   \n",
       "1484          Comanche    Darrell Crissman  password  661-693-0728    NY   \n",
       "1485       Springfield       Leonard Jones  password  634-265-1255    KY   \n",
       "1486       Southbridge       Laura Tschanz  password  326-522-6717    AR   \n",
       "1487             Miami        Marcos White  password  593-009-7426    OR   \n",
       "1488          Woodbury          Ellen Hull  password  079-390-5937    MT   \n",
       "1489          Bethesda     Samantha Steven  password  493-471-7022    NE   \n",
       "1490         Nashville        Sonia Hansen  password  663-260-6108    LA   \n",
       "1491        Bloomfield        Andrew Myers  password  731-790-7552    KY   \n",
       "1492           Drayden           Susan Ray  password  133-227-4465    FL   \n",
       "1493         Tyringham          Ryan Wells  password  707-267-9772    TX   \n",
       "1494        Sacramento    Alexander Knight  password  472-066-5014    AK   \n",
       "1495            Fingal      Kristen Pippin  password  027-753-7611    TX   \n",
       "1496            Empire         Pat Goodman  password  579-721-2146    VA   \n",
       "1497         Cole Camp         Young Hodge  password  305-869-9710    MA   \n",
       "1498            Aragon       Hilda Collura  password  835-981-7138    CT   \n",
       "1499            Exeter   Phyllis Rodrigues  password  283-592-7978    PA   \n",
       "\n",
       "                          Street                Type    Zip gender  \n",
       "0         4346 Thornbranch Trail            Civilian  25920      F  \n",
       "1             9895 Sunset Circle  Transport official  94660      M  \n",
       "2     8324 Port Charlotte Circle  Transport official  99506      F  \n",
       "3         2652 Stags Leap Circle            Civilian  53403      F  \n",
       "4             5337 Walworth Cove  Transport official  42343      F  \n",
       "5           3264 Gainesway Drive            Civilian  07825      M  \n",
       "6          4941 Deep Valley Lane            Civilian  58365      F  \n",
       "7           8789 Meadow Wood Way            Civilian  95108      M  \n",
       "8             4086 Belfort Trail  Transport official  17343      F  \n",
       "9        9450 Dogwood Crest Cove  Transport official  98612      M  \n",
       "10         5332 Grenville Circle  Transport official  20717      M  \n",
       "11     7205 Trail Hollow Parkway            Civilian  60564      F  \n",
       "12           9456 Hidden Parkway  Transport official  08020      F  \n",
       "13       3813 Indian Creek Trail  Transport official  57778      F  \n",
       "14        2147 Taylorcrest Trail            Civilian  33174      M  \n",
       "15             4876 Radbrook Way            Civilian  80321      M  \n",
       "16          6435 Heatherly Trail  Transport official  88220      M  \n",
       "17          9241 Oakleigh Avenue  Transport official  19040      F  \n",
       "18           3320 Chatsworth Way            Civilian  44615      M  \n",
       "19         5079 Wood Briar Trail  Transport official  17087      F  \n",
       "20                9718 Deer Cove            Civilian  19390      F  \n",
       "21            93 Silkwood Avenue  Transport official  79029      M  \n",
       "22            4197 Dellwood Lane  Transport official  30110      F  \n",
       "23            8751 Barkers Trail  Transport official  99634      F  \n",
       "24        8239 Holly Hill Street            Civilian  42749      F  \n",
       "25          9115 Canella Parkway            Civilian  49713      F  \n",
       "26       8852 Pine Hollow Circle            Civilian  58109      F  \n",
       "27             5704 Lecuyer Cove  Transport official  58654      M  \n",
       "28           4595 Parade Parkway            Civilian  28587      F  \n",
       "29              6217 Paul Avenue            Civilian  59111      F  \n",
       "...                          ...                 ...    ...    ...  \n",
       "1470         310 Paddock Parkway            Civilian  65627      M  \n",
       "1471       8033 Kellywood Circle            Civilian  89103      F  \n",
       "1472     6176 Whitemarsh Parkway            Civilian  95376      M  \n",
       "1473              7622 Park Lane            Civilian  74734      F  \n",
       "1474  8037 Fiddlers Elbow Avenue  Transport official  79842      F  \n",
       "1475        8363 Newberry Avenue  Transport official  54153      F  \n",
       "1476       6961 Fairmeadows Cove  Transport official  45112      M  \n",
       "1477       5927 Forest Hill Lane  Transport official  32725      M  \n",
       "1478       3490 Curve Crest Lane            Civilian  01546      F  \n",
       "1479     5792 Stonebridge Circle  Transport official  51242      M  \n",
       "1480        8464 Imperial Circle            Civilian  32247      F  \n",
       "1481             8704 Morgan Way            Civilian  98664      M  \n",
       "1482          4013 Pine Tree Way  Transport official  48312      M  \n",
       "1483          3256 Norell Avenue            Civilian  53022      M  \n",
       "1484   8173 Southchester Parkway  Transport official  25140      M  \n",
       "1485   2645 Hampton Grove Circle            Civilian  62633      M  \n",
       "1486     7793 Hunters Run Street            Civilian  26103      F  \n",
       "1487           6344 Riverain Way  Transport official  99611      M  \n",
       "1488          2315 Oasis Parkway            Civilian  33243      F  \n",
       "1489     3337 Carters Grove Lane            Civilian  35906      F  \n",
       "1490      9743 Forest Downs Lane  Transport official  84029      F  \n",
       "1491  2811 Poplar Estates Avenue            Civilian  14171      M  \n",
       "1492        48 Valley Crest Cove            Civilian  44126      F  \n",
       "1493         4637 Wargate Circle            Civilian  89315      M  \n",
       "1494        2983 Everwood Street  Transport official  54212      M  \n",
       "1495         1086 Cherrybark Way  Transport official  15365      F  \n",
       "1496          4292 Sweetwood Way  Transport official  14821      M  \n",
       "1497        8889 Shadeley Avenue  Transport official  23395      F  \n",
       "1498          9550 Elm Leaf Cove            Civilian  28070      F  \n",
       "1499    9984 Sparkling Lake Lane            Civilian  81503      F  \n",
       "\n",
       "[1500 rows x 9 columns]"
      ]
     },
     "execution_count": 177,
     "metadata": {},
     "output_type": "execute_result"
    }
   ],
   "source": [
    "import names\n",
    "from faker import Factory\n",
    "import random\n",
    "from barnum import gen_data\n",
    "faker = Factory.create()\n",
    "def fakerecord1():\n",
    "    k = random.randint(1, 1000000)\n",
    "    return {'Name': malefemale(k),\n",
    "            'Password':'password',\n",
    "            'gender':  gender(k),\n",
    "            'Phone_Number': faker.numerify('###-###-####'),\n",
    "            'Street': gen_data.create_street(),\n",
    "            'Type':random.choice(['Transport official','Civilian']),\n",
    "            'City': gen_data.create_city_state_zip()[1],\n",
    "            'State':gen_data.create_city_state_zip()[2],\n",
    "            'Zip': gen_data.create_city_state_zip()[0],\n",
    "            }\n",
    "\n",
    "def malefemale(k):\n",
    "    if(k%2)==0:\n",
    "        return names.get_full_name(gender='male')\n",
    "    else:\n",
    "        return names.get_full_name(gender='female')\n",
    "        \n",
    "def gender(k):\n",
    "    if(k%2)==0:\n",
    "        return 'M'\n",
    "    else:\n",
    "        return 'F'\n",
    "\n",
    "\n",
    "example_dummy_data1 = pd.DataFrame([fakerecord1() for _ in range(1500)])\n",
    "example_dummy_data1\n"
   ]
  },
  {
   "cell_type": "code",
   "execution_count": 179,
   "metadata": {
    "collapsed": true
   },
   "outputs": [],
   "source": [
    "writer = pd.ExcelWriter('USER.xlsx', engine='xlsxwriter')\n",
    "example_dummy_data1.to_excel(writer, sheet_name='Sheet1')\n",
    "writer.save()"
   ]
  },
  {
   "cell_type": "code",
   "execution_count": null,
   "metadata": {
    "collapsed": true
   },
   "outputs": [],
   "source": []
  },
  {
   "cell_type": "code",
   "execution_count": null,
   "metadata": {
    "collapsed": true
   },
   "outputs": [],
   "source": []
  },
  {
   "cell_type": "code",
   "execution_count": null,
   "metadata": {
    "collapsed": true
   },
   "outputs": [],
   "source": []
  },
  {
   "cell_type": "code",
   "execution_count": null,
   "metadata": {
    "collapsed": true
   },
   "outputs": [],
   "source": []
  },
  {
   "cell_type": "code",
   "execution_count": 84,
   "metadata": {
    "collapsed": false
   },
   "outputs": [
    {
     "data": {
      "text/html": [
       "<div>\n",
       "<table border=\"1\" class=\"dataframe\">\n",
       "  <thead>\n",
       "    <tr style=\"text-align: right;\">\n",
       "      <th></th>\n",
       "      <th>Make</th>\n",
       "      <th>Model</th>\n",
       "      <th>Vehicle_id</th>\n",
       "    </tr>\n",
       "  </thead>\n",
       "  <tbody>\n",
       "    <tr>\n",
       "      <th>0</th>\n",
       "      <td>Mercury</td>\n",
       "      <td>Cougar</td>\n",
       "      <td>89725</td>\n",
       "    </tr>\n",
       "    <tr>\n",
       "      <th>1</th>\n",
       "      <td>Hillman</td>\n",
       "      <td>Minx Magnificent</td>\n",
       "      <td>94059</td>\n",
       "    </tr>\n",
       "    <tr>\n",
       "      <th>2</th>\n",
       "      <td>Shelby</td>\n",
       "      <td>GT350</td>\n",
       "      <td>49802</td>\n",
       "    </tr>\n",
       "    <tr>\n",
       "      <th>3</th>\n",
       "      <td>Pontiac</td>\n",
       "      <td>Tempest</td>\n",
       "      <td>52721</td>\n",
       "    </tr>\n",
       "    <tr>\n",
       "      <th>4</th>\n",
       "      <td>Ford</td>\n",
       "      <td>Bronco</td>\n",
       "      <td>71955</td>\n",
       "    </tr>\n",
       "    <tr>\n",
       "      <th>5</th>\n",
       "      <td>Jensen</td>\n",
       "      <td>Interceptor</td>\n",
       "      <td>16110</td>\n",
       "    </tr>\n",
       "    <tr>\n",
       "      <th>6</th>\n",
       "      <td>Ford</td>\n",
       "      <td>E250</td>\n",
       "      <td>79494</td>\n",
       "    </tr>\n",
       "    <tr>\n",
       "      <th>7</th>\n",
       "      <td>Austin</td>\n",
       "      <td>Mini</td>\n",
       "      <td>99699</td>\n",
       "    </tr>\n",
       "    <tr>\n",
       "      <th>8</th>\n",
       "      <td>Ford</td>\n",
       "      <td>Fairlane</td>\n",
       "      <td>61607</td>\n",
       "    </tr>\n",
       "    <tr>\n",
       "      <th>9</th>\n",
       "      <td>Volkswagen</td>\n",
       "      <td>Golf</td>\n",
       "      <td>82694</td>\n",
       "    </tr>\n",
       "  </tbody>\n",
       "</table>\n",
       "</div>"
      ],
      "text/plain": [
       "         Make             Model Vehicle_id\n",
       "0     Mercury            Cougar      89725\n",
       "1     Hillman  Minx Magnificent      94059\n",
       "2      Shelby             GT350      49802\n",
       "3     Pontiac           Tempest      52721\n",
       "4        Ford            Bronco      71955\n",
       "5      Jensen       Interceptor      16110\n",
       "6        Ford              E250      79494\n",
       "7      Austin              Mini      99699\n",
       "8        Ford          Fairlane      61607\n",
       "9  Volkswagen              Golf      82694"
      ]
     },
     "execution_count": 84,
     "metadata": {},
     "output_type": "execute_result"
    }
   ],
   "source": [
    "from faker import Factory\n",
    "import random\n",
    "import names\n",
    "import pandas as pd\n",
    "import numpy as np\n",
    "%matplotlib inline\n",
    "faker = Factory.create()\n",
    "cars = [['Chrysler', 'Imperial'],['Citroën', '2CV'],['Hillman', 'Minx Magnificent'],['Chevrolet', 'Corvette'],['Cadillac', 'Fleetwood'],['Ford', 'Thunderbird'],['BMW', '600'],['Austin', 'Mini'],['Fillmore', 'Fillmore'],['Fairthorpe', 'Rockette'],['Studebaker', 'Avanti'],['Pontiac', 'Tempest'],['Pontiac', 'Grand Prix'],['Rambler', 'Classic'],['Ford', 'Mustang'],['Pontiac', 'GTO'],['Pontiac', 'LeMans'],['Pontiac', 'Bonneville'],['Plymouth', 'Fury'],['Austin', 'Mini Cooper'],['Volkswagen', 'Beetle'],['Ford', 'Galaxie'],['Ford', 'Falcon'],['Ford', 'Fairlane'],['Jensen', 'Interceptor'],['Chevrolet', 'Camaro'],['Chevrolet', 'Bel Air'],['Mercury', 'Cougar'],['Ford', 'Country'],['Shelby', 'GT500'],['Dodge', 'Charger'],['Shelby', 'GT350'],['Plymouth', 'Roadrunner'],['Mazda', '626'],['Mazda', 'RX-7'],['Volkswagen', 'Golf'],['Honda', 'Accord'],['Ford', 'EXP'],['Ford', 'Ranger'],['Ford', 'Escort'],['Ford', 'Bronco'],['Ford', 'E250'],['Mercedes-Benz', 'E-Class'],['Mercedes-Benz', 'S-Class'],['Chevrolet', 'Caprice'],['Toyota', 'Celica'],['Dodge', 'Aries'],['Nissan', '280ZX'],['Mercedes-Benz', 'W123'],['Chevrolet', 'Monza'],['Citroën', 'SM'],['Porsche', '914'],['Ford', 'Torino']]\n",
    "\n",
    "def fakerecord2():\n",
    "    k = random.randint(0,53 )\n",
    "    return {'Vehicle_id': faker.numerify('#####'),  \n",
    "            'Make': make(k),\n",
    "            'Model': model(k),\n",
    "            }\n",
    "\n",
    "def make(k):\n",
    "    return cars[k][0]\n",
    "def model(k):\n",
    "    return cars[k][1]\n",
    "    \n",
    "\n",
    "example_dummy_data2 = pd.DataFrame([fakerecord2() for _ in range(10)])\n",
    "example_dummy_data2\n"
   ]
  },
  {
   "cell_type": "code",
   "execution_count": null,
   "metadata": {
    "collapsed": true
   },
   "outputs": [],
   "source": [
    "writer = pd.ExcelWriter('VEHICLE.xlsx', engine='xlsxwriter')\n",
    "example_dummy_data2.to_excel(writer, sheet_name='Sheet1')\n",
    "writer.save()"
   ]
  },
  {
   "cell_type": "code",
   "execution_count": null,
   "metadata": {
    "collapsed": false
   },
   "outputs": [],
   "source": []
  },
  {
   "cell_type": "code",
   "execution_count": null,
   "metadata": {
    "collapsed": true
   },
   "outputs": [],
   "source": []
  },
  {
   "cell_type": "code",
   "execution_count": 207,
   "metadata": {
    "collapsed": false
   },
   "outputs": [
    {
     "data": {
      "text/html": [
       "<div>\n",
       "<table border=\"1\" class=\"dataframe\">\n",
       "  <thead>\n",
       "    <tr style=\"text-align: right;\">\n",
       "      <th></th>\n",
       "      <th>No_of_team_members</th>\n",
       "      <th>end_timestamp</th>\n",
       "      <th>start_timestamp</th>\n",
       "    </tr>\n",
       "  </thead>\n",
       "  <tbody>\n",
       "    <tr>\n",
       "      <th>0</th>\n",
       "      <td>21</td>\n",
       "      <td>2011-02-21 18:06:28</td>\n",
       "      <td>2010-12-04 18:09:08</td>\n",
       "    </tr>\n",
       "    <tr>\n",
       "      <th>1</th>\n",
       "      <td>13</td>\n",
       "      <td>2007-02-06 08:33:17</td>\n",
       "      <td>2006-10-28 08:42:05</td>\n",
       "    </tr>\n",
       "    <tr>\n",
       "      <th>2</th>\n",
       "      <td>6</td>\n",
       "      <td>2016-05-02 10:53:36</td>\n",
       "      <td>2016-04-09 04:32:03</td>\n",
       "    </tr>\n",
       "    <tr>\n",
       "      <th>3</th>\n",
       "      <td>15</td>\n",
       "      <td>2005-09-23 14:20:07</td>\n",
       "      <td>2005-06-22 14:16:03</td>\n",
       "    </tr>\n",
       "    <tr>\n",
       "      <th>4</th>\n",
       "      <td>8</td>\n",
       "      <td>2005-01-27 09:35:36</td>\n",
       "      <td>2005-01-15 02:46:21</td>\n",
       "    </tr>\n",
       "    <tr>\n",
       "      <th>5</th>\n",
       "      <td>22</td>\n",
       "      <td>2003-11-10 01:32:36</td>\n",
       "      <td>2003-10-07 02:55:28</td>\n",
       "    </tr>\n",
       "    <tr>\n",
       "      <th>6</th>\n",
       "      <td>17</td>\n",
       "      <td>2004-01-02 16:33:02</td>\n",
       "      <td>2003-11-07 15:19:53</td>\n",
       "    </tr>\n",
       "    <tr>\n",
       "      <th>7</th>\n",
       "      <td>7</td>\n",
       "      <td>2011-11-29 10:38:46</td>\n",
       "      <td>2011-08-19 18:43:44</td>\n",
       "    </tr>\n",
       "    <tr>\n",
       "      <th>8</th>\n",
       "      <td>6</td>\n",
       "      <td>2009-02-02 06:07:25</td>\n",
       "      <td>2008-11-07 11:46:15</td>\n",
       "    </tr>\n",
       "    <tr>\n",
       "      <th>9</th>\n",
       "      <td>20</td>\n",
       "      <td>2007-03-13 18:35:11</td>\n",
       "      <td>2007-01-02 07:20:37</td>\n",
       "    </tr>\n",
       "    <tr>\n",
       "      <th>10</th>\n",
       "      <td>10</td>\n",
       "      <td>2013-10-23 21:04:02</td>\n",
       "      <td>2013-09-12 18:18:24</td>\n",
       "    </tr>\n",
       "    <tr>\n",
       "      <th>11</th>\n",
       "      <td>6</td>\n",
       "      <td>2006-09-19 08:03:27</td>\n",
       "      <td>2006-06-15 01:51:54</td>\n",
       "    </tr>\n",
       "    <tr>\n",
       "      <th>12</th>\n",
       "      <td>19</td>\n",
       "      <td>2002-03-19 15:56:04</td>\n",
       "      <td>2002-01-20 15:09:39</td>\n",
       "    </tr>\n",
       "    <tr>\n",
       "      <th>13</th>\n",
       "      <td>23</td>\n",
       "      <td>2002-08-19 04:58:34</td>\n",
       "      <td>2002-08-01 09:06:34</td>\n",
       "    </tr>\n",
       "    <tr>\n",
       "      <th>14</th>\n",
       "      <td>20</td>\n",
       "      <td>2015-12-17 05:34:33</td>\n",
       "      <td>2015-09-25 11:57:52</td>\n",
       "    </tr>\n",
       "    <tr>\n",
       "      <th>15</th>\n",
       "      <td>23</td>\n",
       "      <td>2003-01-06 06:16:45</td>\n",
       "      <td>2002-11-23 14:47:54</td>\n",
       "    </tr>\n",
       "    <tr>\n",
       "      <th>16</th>\n",
       "      <td>22</td>\n",
       "      <td>2016-04-30 05:40:25</td>\n",
       "      <td>2016-02-24 01:05:50</td>\n",
       "    </tr>\n",
       "    <tr>\n",
       "      <th>17</th>\n",
       "      <td>19</td>\n",
       "      <td>2004-11-24 12:52:44</td>\n",
       "      <td>2004-09-07 12:55:54</td>\n",
       "    </tr>\n",
       "    <tr>\n",
       "      <th>18</th>\n",
       "      <td>11</td>\n",
       "      <td>2016-10-03 08:12:45</td>\n",
       "      <td>2016-08-18 20:36:51</td>\n",
       "    </tr>\n",
       "    <tr>\n",
       "      <th>19</th>\n",
       "      <td>25</td>\n",
       "      <td>2007-07-28 12:33:14</td>\n",
       "      <td>2007-06-20 14:26:57</td>\n",
       "    </tr>\n",
       "    <tr>\n",
       "      <th>20</th>\n",
       "      <td>12</td>\n",
       "      <td>2003-04-09 10:18:14</td>\n",
       "      <td>2003-03-07 23:57:00</td>\n",
       "    </tr>\n",
       "    <tr>\n",
       "      <th>21</th>\n",
       "      <td>13</td>\n",
       "      <td>2011-10-04 23:11:40</td>\n",
       "      <td>2011-08-23 08:07:38</td>\n",
       "    </tr>\n",
       "    <tr>\n",
       "      <th>22</th>\n",
       "      <td>25</td>\n",
       "      <td>2016-11-30 18:24:51</td>\n",
       "      <td>2016-10-17 01:03:58</td>\n",
       "    </tr>\n",
       "    <tr>\n",
       "      <th>23</th>\n",
       "      <td>18</td>\n",
       "      <td>2014-09-14 22:12:17</td>\n",
       "      <td>2014-07-22 15:23:59</td>\n",
       "    </tr>\n",
       "    <tr>\n",
       "      <th>24</th>\n",
       "      <td>16</td>\n",
       "      <td>2003-11-21 15:30:15</td>\n",
       "      <td>2003-08-19 18:11:03</td>\n",
       "    </tr>\n",
       "    <tr>\n",
       "      <th>25</th>\n",
       "      <td>10</td>\n",
       "      <td>2011-07-16 14:19:43</td>\n",
       "      <td>2011-04-15 11:41:12</td>\n",
       "    </tr>\n",
       "    <tr>\n",
       "      <th>26</th>\n",
       "      <td>18</td>\n",
       "      <td>2016-05-16 16:23:33</td>\n",
       "      <td>2016-04-19 14:13:25</td>\n",
       "    </tr>\n",
       "    <tr>\n",
       "      <th>27</th>\n",
       "      <td>8</td>\n",
       "      <td>2012-08-21 21:03:49</td>\n",
       "      <td>2012-06-22 11:43:21</td>\n",
       "    </tr>\n",
       "    <tr>\n",
       "      <th>28</th>\n",
       "      <td>15</td>\n",
       "      <td>2017-01-06 18:03:41</td>\n",
       "      <td>2016-10-06 08:48:29</td>\n",
       "    </tr>\n",
       "    <tr>\n",
       "      <th>29</th>\n",
       "      <td>9</td>\n",
       "      <td>2004-05-26 12:54:21</td>\n",
       "      <td>2004-04-11 00:32:46</td>\n",
       "    </tr>\n",
       "    <tr>\n",
       "      <th>...</th>\n",
       "      <td>...</td>\n",
       "      <td>...</td>\n",
       "      <td>...</td>\n",
       "    </tr>\n",
       "    <tr>\n",
       "      <th>24970</th>\n",
       "      <td>19</td>\n",
       "      <td>2012-06-04 04:50:01</td>\n",
       "      <td>2012-04-17 22:05:06</td>\n",
       "    </tr>\n",
       "    <tr>\n",
       "      <th>24971</th>\n",
       "      <td>18</td>\n",
       "      <td>2013-01-23 21:30:57</td>\n",
       "      <td>2013-01-09 13:17:11</td>\n",
       "    </tr>\n",
       "    <tr>\n",
       "      <th>24972</th>\n",
       "      <td>21</td>\n",
       "      <td>2013-05-11 16:39:45</td>\n",
       "      <td>2013-02-15 03:03:12</td>\n",
       "    </tr>\n",
       "    <tr>\n",
       "      <th>24973</th>\n",
       "      <td>7</td>\n",
       "      <td>2016-04-13 22:10:36</td>\n",
       "      <td>2016-02-05 16:48:04</td>\n",
       "    </tr>\n",
       "    <tr>\n",
       "      <th>24974</th>\n",
       "      <td>17</td>\n",
       "      <td>2004-03-04 21:19:16</td>\n",
       "      <td>2004-01-01 03:23:13</td>\n",
       "    </tr>\n",
       "    <tr>\n",
       "      <th>24975</th>\n",
       "      <td>17</td>\n",
       "      <td>2010-05-03 11:22:50</td>\n",
       "      <td>2010-02-14 01:37:48</td>\n",
       "    </tr>\n",
       "    <tr>\n",
       "      <th>24976</th>\n",
       "      <td>16</td>\n",
       "      <td>2015-09-16 11:39:11</td>\n",
       "      <td>2015-07-01 14:33:06</td>\n",
       "    </tr>\n",
       "    <tr>\n",
       "      <th>24977</th>\n",
       "      <td>18</td>\n",
       "      <td>2016-12-17 01:08:50</td>\n",
       "      <td>2016-09-08 05:02:39</td>\n",
       "    </tr>\n",
       "    <tr>\n",
       "      <th>24978</th>\n",
       "      <td>19</td>\n",
       "      <td>2002-12-09 22:06:11</td>\n",
       "      <td>2002-09-07 16:23:42</td>\n",
       "    </tr>\n",
       "    <tr>\n",
       "      <th>24979</th>\n",
       "      <td>11</td>\n",
       "      <td>2011-09-07 14:40:32</td>\n",
       "      <td>2011-06-30 20:46:08</td>\n",
       "    </tr>\n",
       "    <tr>\n",
       "      <th>24980</th>\n",
       "      <td>7</td>\n",
       "      <td>2006-05-25 10:35:48</td>\n",
       "      <td>2006-02-23 12:22:56</td>\n",
       "    </tr>\n",
       "    <tr>\n",
       "      <th>24981</th>\n",
       "      <td>6</td>\n",
       "      <td>2002-12-22 15:23:24</td>\n",
       "      <td>2002-09-18 19:33:13</td>\n",
       "    </tr>\n",
       "    <tr>\n",
       "      <th>24982</th>\n",
       "      <td>11</td>\n",
       "      <td>2008-03-28 07:41:38</td>\n",
       "      <td>2007-12-31 00:42:16</td>\n",
       "    </tr>\n",
       "    <tr>\n",
       "      <th>24983</th>\n",
       "      <td>14</td>\n",
       "      <td>2015-11-17 16:46:16</td>\n",
       "      <td>2015-10-14 08:33:50</td>\n",
       "    </tr>\n",
       "    <tr>\n",
       "      <th>24984</th>\n",
       "      <td>23</td>\n",
       "      <td>2012-03-27 12:30:14</td>\n",
       "      <td>2012-03-09 19:32:18</td>\n",
       "    </tr>\n",
       "    <tr>\n",
       "      <th>24985</th>\n",
       "      <td>8</td>\n",
       "      <td>2005-11-23 02:01:22</td>\n",
       "      <td>2005-08-13 06:42:40</td>\n",
       "    </tr>\n",
       "    <tr>\n",
       "      <th>24986</th>\n",
       "      <td>13</td>\n",
       "      <td>2015-09-02 14:21:45</td>\n",
       "      <td>2015-05-21 23:16:08</td>\n",
       "    </tr>\n",
       "    <tr>\n",
       "      <th>24987</th>\n",
       "      <td>13</td>\n",
       "      <td>2012-11-28 09:59:16</td>\n",
       "      <td>2012-11-05 23:40:32</td>\n",
       "    </tr>\n",
       "    <tr>\n",
       "      <th>24988</th>\n",
       "      <td>9</td>\n",
       "      <td>2015-07-26 14:58:07</td>\n",
       "      <td>2015-07-01 14:25:09</td>\n",
       "    </tr>\n",
       "    <tr>\n",
       "      <th>24989</th>\n",
       "      <td>8</td>\n",
       "      <td>2006-03-07 22:12:24</td>\n",
       "      <td>2006-01-30 10:40:13</td>\n",
       "    </tr>\n",
       "    <tr>\n",
       "      <th>24990</th>\n",
       "      <td>25</td>\n",
       "      <td>2010-09-10 22:14:42</td>\n",
       "      <td>2010-06-27 05:03:13</td>\n",
       "    </tr>\n",
       "    <tr>\n",
       "      <th>24991</th>\n",
       "      <td>19</td>\n",
       "      <td>2008-06-15 13:01:52</td>\n",
       "      <td>2008-04-10 23:36:36</td>\n",
       "    </tr>\n",
       "    <tr>\n",
       "      <th>24992</th>\n",
       "      <td>11</td>\n",
       "      <td>2002-01-21 21:44:37</td>\n",
       "      <td>2001-11-03 06:02:35</td>\n",
       "    </tr>\n",
       "    <tr>\n",
       "      <th>24993</th>\n",
       "      <td>19</td>\n",
       "      <td>2007-12-31 23:27:40</td>\n",
       "      <td>2007-10-10 02:02:27</td>\n",
       "    </tr>\n",
       "    <tr>\n",
       "      <th>24994</th>\n",
       "      <td>24</td>\n",
       "      <td>2014-06-17 13:17:16</td>\n",
       "      <td>2014-05-23 17:49:03</td>\n",
       "    </tr>\n",
       "    <tr>\n",
       "      <th>24995</th>\n",
       "      <td>6</td>\n",
       "      <td>2006-12-01 10:28:42</td>\n",
       "      <td>2006-09-26 20:58:36</td>\n",
       "    </tr>\n",
       "    <tr>\n",
       "      <th>24996</th>\n",
       "      <td>23</td>\n",
       "      <td>2010-09-15 18:34:26</td>\n",
       "      <td>2010-07-05 10:10:26</td>\n",
       "    </tr>\n",
       "    <tr>\n",
       "      <th>24997</th>\n",
       "      <td>17</td>\n",
       "      <td>2003-02-27 05:09:09</td>\n",
       "      <td>2002-12-22 13:04:37</td>\n",
       "    </tr>\n",
       "    <tr>\n",
       "      <th>24998</th>\n",
       "      <td>11</td>\n",
       "      <td>2009-01-07 11:48:21</td>\n",
       "      <td>2008-10-20 19:21:53</td>\n",
       "    </tr>\n",
       "    <tr>\n",
       "      <th>24999</th>\n",
       "      <td>20</td>\n",
       "      <td>2003-04-08 04:57:11</td>\n",
       "      <td>2003-01-29 17:38:55</td>\n",
       "    </tr>\n",
       "  </tbody>\n",
       "</table>\n",
       "<p>25000 rows × 3 columns</p>\n",
       "</div>"
      ],
      "text/plain": [
       "       No_of_team_members       end_timestamp     start_timestamp\n",
       "0                      21 2011-02-21 18:06:28 2010-12-04 18:09:08\n",
       "1                      13 2007-02-06 08:33:17 2006-10-28 08:42:05\n",
       "2                       6 2016-05-02 10:53:36 2016-04-09 04:32:03\n",
       "3                      15 2005-09-23 14:20:07 2005-06-22 14:16:03\n",
       "4                       8 2005-01-27 09:35:36 2005-01-15 02:46:21\n",
       "5                      22 2003-11-10 01:32:36 2003-10-07 02:55:28\n",
       "6                      17 2004-01-02 16:33:02 2003-11-07 15:19:53\n",
       "7                       7 2011-11-29 10:38:46 2011-08-19 18:43:44\n",
       "8                       6 2009-02-02 06:07:25 2008-11-07 11:46:15\n",
       "9                      20 2007-03-13 18:35:11 2007-01-02 07:20:37\n",
       "10                     10 2013-10-23 21:04:02 2013-09-12 18:18:24\n",
       "11                      6 2006-09-19 08:03:27 2006-06-15 01:51:54\n",
       "12                     19 2002-03-19 15:56:04 2002-01-20 15:09:39\n",
       "13                     23 2002-08-19 04:58:34 2002-08-01 09:06:34\n",
       "14                     20 2015-12-17 05:34:33 2015-09-25 11:57:52\n",
       "15                     23 2003-01-06 06:16:45 2002-11-23 14:47:54\n",
       "16                     22 2016-04-30 05:40:25 2016-02-24 01:05:50\n",
       "17                     19 2004-11-24 12:52:44 2004-09-07 12:55:54\n",
       "18                     11 2016-10-03 08:12:45 2016-08-18 20:36:51\n",
       "19                     25 2007-07-28 12:33:14 2007-06-20 14:26:57\n",
       "20                     12 2003-04-09 10:18:14 2003-03-07 23:57:00\n",
       "21                     13 2011-10-04 23:11:40 2011-08-23 08:07:38\n",
       "22                     25 2016-11-30 18:24:51 2016-10-17 01:03:58\n",
       "23                     18 2014-09-14 22:12:17 2014-07-22 15:23:59\n",
       "24                     16 2003-11-21 15:30:15 2003-08-19 18:11:03\n",
       "25                     10 2011-07-16 14:19:43 2011-04-15 11:41:12\n",
       "26                     18 2016-05-16 16:23:33 2016-04-19 14:13:25\n",
       "27                      8 2012-08-21 21:03:49 2012-06-22 11:43:21\n",
       "28                     15 2017-01-06 18:03:41 2016-10-06 08:48:29\n",
       "29                      9 2004-05-26 12:54:21 2004-04-11 00:32:46\n",
       "...                   ...                 ...                 ...\n",
       "24970                  19 2012-06-04 04:50:01 2012-04-17 22:05:06\n",
       "24971                  18 2013-01-23 21:30:57 2013-01-09 13:17:11\n",
       "24972                  21 2013-05-11 16:39:45 2013-02-15 03:03:12\n",
       "24973                   7 2016-04-13 22:10:36 2016-02-05 16:48:04\n",
       "24974                  17 2004-03-04 21:19:16 2004-01-01 03:23:13\n",
       "24975                  17 2010-05-03 11:22:50 2010-02-14 01:37:48\n",
       "24976                  16 2015-09-16 11:39:11 2015-07-01 14:33:06\n",
       "24977                  18 2016-12-17 01:08:50 2016-09-08 05:02:39\n",
       "24978                  19 2002-12-09 22:06:11 2002-09-07 16:23:42\n",
       "24979                  11 2011-09-07 14:40:32 2011-06-30 20:46:08\n",
       "24980                   7 2006-05-25 10:35:48 2006-02-23 12:22:56\n",
       "24981                   6 2002-12-22 15:23:24 2002-09-18 19:33:13\n",
       "24982                  11 2008-03-28 07:41:38 2007-12-31 00:42:16\n",
       "24983                  14 2015-11-17 16:46:16 2015-10-14 08:33:50\n",
       "24984                  23 2012-03-27 12:30:14 2012-03-09 19:32:18\n",
       "24985                   8 2005-11-23 02:01:22 2005-08-13 06:42:40\n",
       "24986                  13 2015-09-02 14:21:45 2015-05-21 23:16:08\n",
       "24987                  13 2012-11-28 09:59:16 2012-11-05 23:40:32\n",
       "24988                   9 2015-07-26 14:58:07 2015-07-01 14:25:09\n",
       "24989                   8 2006-03-07 22:12:24 2006-01-30 10:40:13\n",
       "24990                  25 2010-09-10 22:14:42 2010-06-27 05:03:13\n",
       "24991                  19 2008-06-15 13:01:52 2008-04-10 23:36:36\n",
       "24992                  11 2002-01-21 21:44:37 2001-11-03 06:02:35\n",
       "24993                  19 2007-12-31 23:27:40 2007-10-10 02:02:27\n",
       "24994                  24 2014-06-17 13:17:16 2014-05-23 17:49:03\n",
       "24995                   6 2006-12-01 10:28:42 2006-09-26 20:58:36\n",
       "24996                  23 2010-09-15 18:34:26 2010-07-05 10:10:26\n",
       "24997                  17 2003-02-27 05:09:09 2002-12-22 13:04:37\n",
       "24998                  11 2009-01-07 11:48:21 2008-10-20 19:21:53\n",
       "24999                  20 2003-04-08 04:57:11 2003-01-29 17:38:55\n",
       "\n",
       "[25000 rows x 3 columns]"
      ]
     },
     "execution_count": 207,
     "metadata": {},
     "output_type": "execute_result"
    }
   ],
   "source": [
    "from faker import Factory\n",
    "import random\n",
    "import datetime\n",
    "import names\n",
    "from datetime import datetime\n",
    "import pandas as pd\n",
    "import numpy as np\n",
    "%matplotlib inline\n",
    "faker = Factory.create()\n",
    "\n",
    "def fakerecord3():\n",
    "    k1 = random.randint(1000000000,1480036702 )\n",
    "    k2 = random.randint(k1+1000000,k1+9000000 )\n",
    "    return {'start_timestamp':  start(k1),\n",
    "            'end_timestamp': end(k2),\n",
    "            'No_of_team_members': random.randint(5,25),\n",
    "            }\n",
    "\n",
    "def start(k1):\n",
    "    return datetime.fromtimestamp(k1)\n",
    "    \n",
    "def end(k2):\n",
    "    return datetime.fromtimestamp(k2)\n",
    "    \n",
    "example_dummy_data3= pd.DataFrame([fakerecord3() for _ in range(25000)])\n",
    "example_dummy_data3\n",
    "\n"
   ]
  },
  {
   "cell_type": "code",
   "execution_count": 208,
   "metadata": {
    "collapsed": true
   },
   "outputs": [],
   "source": [
    "writer = pd.ExcelWriter('INVESTIGATION.xlsx', engine='xlsxwriter')\n",
    "example_dummy_data3.to_excel(writer, sheet_name='Sheet1')\n",
    "writer.save()"
   ]
  },
  {
   "cell_type": "code",
   "execution_count": null,
   "metadata": {
    "collapsed": true
   },
   "outputs": [],
   "source": []
  },
  {
   "cell_type": "code",
   "execution_count": null,
   "metadata": {
    "collapsed": true
   },
   "outputs": [],
   "source": []
  },
  {
   "cell_type": "code",
   "execution_count": null,
   "metadata": {
    "collapsed": true
   },
   "outputs": [],
   "source": []
  },
  {
   "cell_type": "code",
   "execution_count": null,
   "metadata": {
    "collapsed": true
   },
   "outputs": [],
   "source": []
  },
  {
   "cell_type": "code",
   "execution_count": null,
   "metadata": {
    "collapsed": false
   },
   "outputs": [],
   "source": []
  },
  {
   "cell_type": "code",
   "execution_count": 219,
   "metadata": {
    "collapsed": false
   },
   "outputs": [
    {
     "data": {
      "text/html": [
       "<div>\n",
       "<table border=\"1\" class=\"dataframe\">\n",
       "  <thead>\n",
       "    <tr style=\"text-align: right;\">\n",
       "      <th></th>\n",
       "      <th>occupation</th>\n",
       "    </tr>\n",
       "  </thead>\n",
       "  <tbody>\n",
       "    <tr>\n",
       "      <th>0</th>\n",
       "      <td>Farm Products Purchasing Agent</td>\n",
       "    </tr>\n",
       "    <tr>\n",
       "      <th>1</th>\n",
       "      <td>Graphic Designer</td>\n",
       "    </tr>\n",
       "    <tr>\n",
       "      <th>2</th>\n",
       "      <td>Dispatcher (Safety Vehicles)</td>\n",
       "    </tr>\n",
       "    <tr>\n",
       "      <th>3</th>\n",
       "      <td>Health Care Facilities Inspector</td>\n",
       "    </tr>\n",
       "    <tr>\n",
       "      <th>4</th>\n",
       "      <td>Real Estate Sales Agents</td>\n",
       "    </tr>\n",
       "    <tr>\n",
       "      <th>5</th>\n",
       "      <td>Patent Agent</td>\n",
       "    </tr>\n",
       "    <tr>\n",
       "      <th>6</th>\n",
       "      <td>Hand and Portable Tool Mechanic</td>\n",
       "    </tr>\n",
       "    <tr>\n",
       "      <th>7</th>\n",
       "      <td>Clinical Dietitian</td>\n",
       "    </tr>\n",
       "    <tr>\n",
       "      <th>8</th>\n",
       "      <td>Shipping, Receiving, and Traffic Clerks</td>\n",
       "    </tr>\n",
       "    <tr>\n",
       "      <th>9</th>\n",
       "      <td>Numerical Tool Programmer</td>\n",
       "    </tr>\n",
       "    <tr>\n",
       "      <th>10</th>\n",
       "      <td>Law Professor</td>\n",
       "    </tr>\n",
       "    <tr>\n",
       "      <th>11</th>\n",
       "      <td>Proofreaders and Copy Markers</td>\n",
       "    </tr>\n",
       "    <tr>\n",
       "      <th>12</th>\n",
       "      <td>Golf Course Superintendent</td>\n",
       "    </tr>\n",
       "    <tr>\n",
       "      <th>13</th>\n",
       "      <td>Job Printer (Graphic Arts)</td>\n",
       "    </tr>\n",
       "    <tr>\n",
       "      <th>14</th>\n",
       "      <td>English Language and Literature Professor</td>\n",
       "    </tr>\n",
       "    <tr>\n",
       "      <th>15</th>\n",
       "      <td>Police Artist</td>\n",
       "    </tr>\n",
       "    <tr>\n",
       "      <th>16</th>\n",
       "      <td>Home Entertainment System Installer</td>\n",
       "    </tr>\n",
       "    <tr>\n",
       "      <th>17</th>\n",
       "      <td>Business Professor</td>\n",
       "    </tr>\n",
       "    <tr>\n",
       "      <th>18</th>\n",
       "      <td>Log Graders and Scalers</td>\n",
       "    </tr>\n",
       "    <tr>\n",
       "      <th>19</th>\n",
       "      <td>Parole Officer</td>\n",
       "    </tr>\n",
       "    <tr>\n",
       "      <th>20</th>\n",
       "      <td>Building Maintenance Mechanic</td>\n",
       "    </tr>\n",
       "    <tr>\n",
       "      <th>21</th>\n",
       "      <td>Locomotive Engineers</td>\n",
       "    </tr>\n",
       "    <tr>\n",
       "      <th>22</th>\n",
       "      <td>Mining Machine Operator</td>\n",
       "    </tr>\n",
       "    <tr>\n",
       "      <th>23</th>\n",
       "      <td>Anesthesiologist (MD)</td>\n",
       "    </tr>\n",
       "    <tr>\n",
       "      <th>24</th>\n",
       "      <td>Radiation Therapists</td>\n",
       "    </tr>\n",
       "    <tr>\n",
       "      <th>25</th>\n",
       "      <td>Credit Analyst</td>\n",
       "    </tr>\n",
       "    <tr>\n",
       "      <th>26</th>\n",
       "      <td>Bus Boy / Bus Girl</td>\n",
       "    </tr>\n",
       "    <tr>\n",
       "      <th>27</th>\n",
       "      <td>Structural Drafter</td>\n",
       "    </tr>\n",
       "    <tr>\n",
       "      <th>28</th>\n",
       "      <td>Hazardous Waste Management Analyst</td>\n",
       "    </tr>\n",
       "    <tr>\n",
       "      <th>29</th>\n",
       "      <td>IT Administrator (Information Technology)</td>\n",
       "    </tr>\n",
       "    <tr>\n",
       "      <th>...</th>\n",
       "      <td>...</td>\n",
       "    </tr>\n",
       "    <tr>\n",
       "      <th>725</th>\n",
       "      <td>Aerospace Engineering Technician</td>\n",
       "    </tr>\n",
       "    <tr>\n",
       "      <th>726</th>\n",
       "      <td>Sales Engineers</td>\n",
       "    </tr>\n",
       "    <tr>\n",
       "      <th>727</th>\n",
       "      <td>Medical Records Technician</td>\n",
       "    </tr>\n",
       "    <tr>\n",
       "      <th>728</th>\n",
       "      <td>Museum Curator</td>\n",
       "    </tr>\n",
       "    <tr>\n",
       "      <th>729</th>\n",
       "      <td>Forklift and Industrial Truck Operators</td>\n",
       "    </tr>\n",
       "    <tr>\n",
       "      <th>730</th>\n",
       "      <td>Painter (Industrial)</td>\n",
       "    </tr>\n",
       "    <tr>\n",
       "      <th>731</th>\n",
       "      <td>Agricultural Technician</td>\n",
       "    </tr>\n",
       "    <tr>\n",
       "      <th>732</th>\n",
       "      <td>Logging Tractor Operator</td>\n",
       "    </tr>\n",
       "    <tr>\n",
       "      <th>733</th>\n",
       "      <td>Police Officer</td>\n",
       "    </tr>\n",
       "    <tr>\n",
       "      <th>734</th>\n",
       "      <td>Family Caseworker</td>\n",
       "    </tr>\n",
       "    <tr>\n",
       "      <th>735</th>\n",
       "      <td>Traffic Administrator (Freight &amp; Passenger)</td>\n",
       "    </tr>\n",
       "    <tr>\n",
       "      <th>736</th>\n",
       "      <td>Truck Driver, Long Distance</td>\n",
       "    </tr>\n",
       "    <tr>\n",
       "      <th>737</th>\n",
       "      <td>EEG Technician/Technologist</td>\n",
       "    </tr>\n",
       "    <tr>\n",
       "      <th>738</th>\n",
       "      <td>Parking Enforcement Officer</td>\n",
       "    </tr>\n",
       "    <tr>\n",
       "      <th>739</th>\n",
       "      <td>Ultrasound Technologist</td>\n",
       "    </tr>\n",
       "    <tr>\n",
       "      <th>740</th>\n",
       "      <td>Offset Press Operators</td>\n",
       "    </tr>\n",
       "    <tr>\n",
       "      <th>741</th>\n",
       "      <td>Library Consultant</td>\n",
       "    </tr>\n",
       "    <tr>\n",
       "      <th>742</th>\n",
       "      <td>Plastic Surgeon</td>\n",
       "    </tr>\n",
       "    <tr>\n",
       "      <th>743</th>\n",
       "      <td>Airline Flight Control Administrator</td>\n",
       "    </tr>\n",
       "    <tr>\n",
       "      <th>744</th>\n",
       "      <td>Medical Administrative Assistant</td>\n",
       "    </tr>\n",
       "    <tr>\n",
       "      <th>745</th>\n",
       "      <td>Airline Flight Reservations Administrator</td>\n",
       "    </tr>\n",
       "    <tr>\n",
       "      <th>746</th>\n",
       "      <td>Irradiated-Fuel Handlers</td>\n",
       "    </tr>\n",
       "    <tr>\n",
       "      <th>747</th>\n",
       "      <td>Nuclear Technicians</td>\n",
       "    </tr>\n",
       "    <tr>\n",
       "      <th>748</th>\n",
       "      <td>Horticulture Therapist</td>\n",
       "    </tr>\n",
       "    <tr>\n",
       "      <th>749</th>\n",
       "      <td>Property Managers</td>\n",
       "    </tr>\n",
       "    <tr>\n",
       "      <th>750</th>\n",
       "      <td>Meter Mechanic</td>\n",
       "    </tr>\n",
       "    <tr>\n",
       "      <th>751</th>\n",
       "      <td>Licensed Practical Nurse (LPN)</td>\n",
       "    </tr>\n",
       "    <tr>\n",
       "      <th>752</th>\n",
       "      <td>Radar and Sonar Technicians</td>\n",
       "    </tr>\n",
       "    <tr>\n",
       "      <th>753</th>\n",
       "      <td>Construction Trades Supervisor</td>\n",
       "    </tr>\n",
       "    <tr>\n",
       "      <th>754</th>\n",
       "      <td>Human Resources Management Advisor</td>\n",
       "    </tr>\n",
       "  </tbody>\n",
       "</table>\n",
       "<p>755 rows × 1 columns</p>\n",
       "</div>"
      ],
      "text/plain": [
       "                                      occupation\n",
       "0                 Farm Products Purchasing Agent\n",
       "1                               Graphic Designer\n",
       "2                   Dispatcher (Safety Vehicles)\n",
       "3               Health Care Facilities Inspector\n",
       "4                       Real Estate Sales Agents\n",
       "5                                   Patent Agent\n",
       "6                Hand and Portable Tool Mechanic\n",
       "7                             Clinical Dietitian\n",
       "8        Shipping, Receiving, and Traffic Clerks\n",
       "9                      Numerical Tool Programmer\n",
       "10                                 Law Professor\n",
       "11                 Proofreaders and Copy Markers\n",
       "12                    Golf Course Superintendent\n",
       "13                    Job Printer (Graphic Arts)\n",
       "14     English Language and Literature Professor\n",
       "15                                 Police Artist\n",
       "16           Home Entertainment System Installer\n",
       "17                            Business Professor\n",
       "18                       Log Graders and Scalers\n",
       "19                                Parole Officer\n",
       "20                 Building Maintenance Mechanic\n",
       "21                          Locomotive Engineers\n",
       "22                       Mining Machine Operator\n",
       "23                         Anesthesiologist (MD)\n",
       "24                          Radiation Therapists\n",
       "25                                Credit Analyst\n",
       "26                            Bus Boy / Bus Girl\n",
       "27                            Structural Drafter\n",
       "28            Hazardous Waste Management Analyst\n",
       "29     IT Administrator (Information Technology)\n",
       "..                                           ...\n",
       "725             Aerospace Engineering Technician\n",
       "726                              Sales Engineers\n",
       "727                   Medical Records Technician\n",
       "728                               Museum Curator\n",
       "729      Forklift and Industrial Truck Operators\n",
       "730                         Painter (Industrial)\n",
       "731                      Agricultural Technician\n",
       "732                     Logging Tractor Operator\n",
       "733                               Police Officer\n",
       "734                            Family Caseworker\n",
       "735  Traffic Administrator (Freight & Passenger)\n",
       "736                  Truck Driver, Long Distance\n",
       "737                  EEG Technician/Technologist\n",
       "738                  Parking Enforcement Officer\n",
       "739                      Ultrasound Technologist\n",
       "740                       Offset Press Operators\n",
       "741                           Library Consultant\n",
       "742                              Plastic Surgeon\n",
       "743         Airline Flight Control Administrator\n",
       "744             Medical Administrative Assistant\n",
       "745    Airline Flight Reservations Administrator\n",
       "746                     Irradiated-Fuel Handlers\n",
       "747                          Nuclear Technicians\n",
       "748                       Horticulture Therapist\n",
       "749                            Property Managers\n",
       "750                               Meter Mechanic\n",
       "751               Licensed Practical Nurse (LPN)\n",
       "752                  Radar and Sonar Technicians\n",
       "753               Construction Trades Supervisor\n",
       "754           Human Resources Management Advisor\n",
       "\n",
       "[755 rows x 1 columns]"
      ]
     },
     "execution_count": 219,
     "metadata": {},
     "output_type": "execute_result"
    }
   ],
   "source": [
    "import xlrd\n",
    "from faker import Factory\n",
    "import random\n",
    "import datetime\n",
    "import names\n",
    "from datetime import datetime\n",
    "import pandas as pd\n",
    "import numpy as np\n",
    "%matplotlib inline\n",
    "faker = Factory.create()\n",
    "book = xlrd.open_workbook(\"Occupation.xlsx\")\n",
    "sheet = book.sheet_by_index(0)\n",
    "\n",
    "list_j = []\n",
    "\n",
    "for k in range(1,sheet.nrows):\n",
    "    list_j.append(str(sheet.row_values(k)[1-1]))\n",
    "    \n",
    "\n",
    "\n",
    "def fakerecord4():\n",
    "    return {\n",
    "            'occupation': random.choice(list_j),\n",
    "            \n",
    "            }\n",
    "\n",
    "example_dummy_data4= pd.DataFrame([fakerecord4() for _ in range(755)])\n",
    "example_dummy_data4"
   ]
  },
  {
   "cell_type": "code",
   "execution_count": 220,
   "metadata": {
    "collapsed": true
   },
   "outputs": [],
   "source": [
    "writer = pd.ExcelWriter('OCCUPATION.xlsx', engine='xlsxwriter')\n",
    "example_dummy_data4.to_excel(writer, sheet_name='Sheet1')\n",
    "writer.save()"
   ]
  },
  {
   "cell_type": "code",
   "execution_count": null,
   "metadata": {
    "collapsed": true
   },
   "outputs": [],
   "source": []
  },
  {
   "cell_type": "code",
   "execution_count": null,
   "metadata": {
    "collapsed": true
   },
   "outputs": [],
   "source": []
  },
  {
   "cell_type": "code",
   "execution_count": null,
   "metadata": {
    "collapsed": true
   },
   "outputs": [],
   "source": []
  },
  {
   "cell_type": "code",
   "execution_count": null,
   "metadata": {
    "collapsed": true
   },
   "outputs": [],
   "source": []
  },
  {
   "cell_type": "code",
   "execution_count": 224,
   "metadata": {
    "collapsed": false
   },
   "outputs": [
    {
     "data": {
      "text/html": [
       "<div>\n",
       "<table border=\"1\" class=\"dataframe\">\n",
       "  <thead>\n",
       "    <tr style=\"text-align: right;\">\n",
       "      <th></th>\n",
       "      <th>Phone_Number</th>\n",
       "    </tr>\n",
       "  </thead>\n",
       "  <tbody>\n",
       "    <tr>\n",
       "      <th>0</th>\n",
       "      <td>(015) 255-0326</td>\n",
       "    </tr>\n",
       "    <tr>\n",
       "      <th>1</th>\n",
       "      <td>(425) 905-6751</td>\n",
       "    </tr>\n",
       "    <tr>\n",
       "      <th>2</th>\n",
       "      <td>(705) 462-9058</td>\n",
       "    </tr>\n",
       "    <tr>\n",
       "      <th>3</th>\n",
       "      <td>(762) 101-4779</td>\n",
       "    </tr>\n",
       "    <tr>\n",
       "      <th>4</th>\n",
       "      <td>(659) 948-1386</td>\n",
       "    </tr>\n",
       "  </tbody>\n",
       "</table>\n",
       "</div>"
      ],
      "text/plain": [
       "     Phone_Number\n",
       "0  (015) 255-0326\n",
       "1  (425) 905-6751\n",
       "2  (705) 462-9058\n",
       "3  (762) 101-4779\n",
       "4  (659) 948-1386"
      ]
     },
     "execution_count": 224,
     "metadata": {},
     "output_type": "execute_result"
    }
   ],
   "source": [
    "import names\n",
    "from faker import Factory\n",
    "import random\n",
    "from barnum import gen_data\n",
    "faker = Factory.create()\n",
    "def fakerecord5():\n",
    "   \n",
    "    return {\n",
    "            'Phone_Number': faker.numerify('(###) ###-####'),\n",
    "            }\n",
    "\n",
    "example_dummy_data5= pd.DataFrame([fakerecord5() for _ in range(3000)])\n",
    "example_dummy_data5.head()"
   ]
  },
  {
   "cell_type": "code",
   "execution_count": 223,
   "metadata": {
    "collapsed": true
   },
   "outputs": [],
   "source": [
    "writer = pd.ExcelWriter('PHONE_NUMBERS.xlsx', engine='xlsxwriter')\n",
    "example_dummy_data5.to_excel(writer, sheet_name='Sheet1')\n",
    "writer.save()"
   ]
  },
  {
   "cell_type": "code",
   "execution_count": null,
   "metadata": {
    "collapsed": true
   },
   "outputs": [],
   "source": []
  },
  {
   "cell_type": "code",
   "execution_count": null,
   "metadata": {
    "collapsed": true
   },
   "outputs": [],
   "source": []
  },
  {
   "cell_type": "code",
   "execution_count": null,
   "metadata": {
    "collapsed": true
   },
   "outputs": [],
   "source": []
  },
  {
   "cell_type": "code",
   "execution_count": 225,
   "metadata": {
    "collapsed": false
   },
   "outputs": [
    {
     "data": {
      "text/html": [
       "<div>\n",
       "<table border=\"1\" class=\"dataframe\">\n",
       "  <thead>\n",
       "    <tr style=\"text-align: right;\">\n",
       "      <th></th>\n",
       "      <th>Role_id</th>\n",
       "    </tr>\n",
       "  </thead>\n",
       "  <tbody>\n",
       "    <tr>\n",
       "      <th>0</th>\n",
       "      <td>17</td>\n",
       "    </tr>\n",
       "    <tr>\n",
       "      <th>1</th>\n",
       "      <td>19</td>\n",
       "    </tr>\n",
       "    <tr>\n",
       "      <th>2</th>\n",
       "      <td>5</td>\n",
       "    </tr>\n",
       "    <tr>\n",
       "      <th>3</th>\n",
       "      <td>11</td>\n",
       "    </tr>\n",
       "    <tr>\n",
       "      <th>4</th>\n",
       "      <td>18</td>\n",
       "    </tr>\n",
       "  </tbody>\n",
       "</table>\n",
       "</div>"
      ],
      "text/plain": [
       "   Role_id\n",
       "0       17\n",
       "1       19\n",
       "2        5\n",
       "3       11\n",
       "4       18"
      ]
     },
     "execution_count": 225,
     "metadata": {},
     "output_type": "execute_result"
    }
   ],
   "source": [
    "import names\n",
    "from faker import Factory\n",
    "import random\n",
    "from barnum import gen_data\n",
    "faker = Factory.create()\n",
    "def fakerecord6():\n",
    "   \n",
    "    return {\n",
    "            'Role_id': random.randint(1,20),\n",
    "            }\n",
    "\n",
    "example_dummy_data6= pd.DataFrame([fakerecord6() for _ in range(745)])\n",
    "example_dummy_data6.head()"
   ]
  },
  {
   "cell_type": "code",
   "execution_count": 226,
   "metadata": {
    "collapsed": true
   },
   "outputs": [],
   "source": [
    "writer = pd.ExcelWriter('TRANSPORT_OFFICIAL.xlsx', engine='xlsxwriter')\n",
    "example_dummy_data6.to_excel(writer, sheet_name='Sheet1')\n",
    "writer.save()"
   ]
  },
  {
   "cell_type": "code",
   "execution_count": null,
   "metadata": {
    "collapsed": true
   },
   "outputs": [],
   "source": []
  },
  {
   "cell_type": "code",
   "execution_count": null,
   "metadata": {
    "collapsed": true
   },
   "outputs": [],
   "source": []
  },
  {
   "cell_type": "code",
   "execution_count": null,
   "metadata": {
    "collapsed": true
   },
   "outputs": [],
   "source": []
  },
  {
   "cell_type": "code",
   "execution_count": null,
   "metadata": {
    "collapsed": true
   },
   "outputs": [],
   "source": []
  },
  {
   "cell_type": "code",
   "execution_count": null,
   "metadata": {
    "collapsed": true
   },
   "outputs": [],
   "source": []
  },
  {
   "cell_type": "code",
   "execution_count": null,
   "metadata": {
    "collapsed": true
   },
   "outputs": [],
   "source": []
  },
  {
   "cell_type": "code",
   "execution_count": null,
   "metadata": {
    "collapsed": true
   },
   "outputs": [],
   "source": []
  },
  {
   "cell_type": "code",
   "execution_count": null,
   "metadata": {
    "collapsed": true
   },
   "outputs": [],
   "source": []
  },
  {
   "cell_type": "code",
   "execution_count": null,
   "metadata": {
    "collapsed": true
   },
   "outputs": [],
   "source": []
  },
  {
   "cell_type": "code",
   "execution_count": null,
   "metadata": {
    "collapsed": true
   },
   "outputs": [],
   "source": []
  },
  {
   "cell_type": "code",
   "execution_count": null,
   "metadata": {
    "collapsed": true
   },
   "outputs": [],
   "source": []
  },
  {
   "cell_type": "code",
   "execution_count": null,
   "metadata": {
    "collapsed": true
   },
   "outputs": [],
   "source": []
  },
  {
   "cell_type": "code",
   "execution_count": null,
   "metadata": {
    "collapsed": true
   },
   "outputs": [],
   "source": []
  },
  {
   "cell_type": "code",
   "execution_count": null,
   "metadata": {
    "collapsed": true
   },
   "outputs": [],
   "source": []
  },
  {
   "cell_type": "code",
   "execution_count": null,
   "metadata": {
    "collapsed": true
   },
   "outputs": [],
   "source": []
  },
  {
   "cell_type": "code",
   "execution_count": null,
   "metadata": {
    "collapsed": true
   },
   "outputs": [],
   "source": []
  },
  {
   "cell_type": "code",
   "execution_count": null,
   "metadata": {
    "collapsed": true
   },
   "outputs": [],
   "source": []
  },
  {
   "cell_type": "code",
   "execution_count": null,
   "metadata": {
    "collapsed": true
   },
   "outputs": [],
   "source": []
  },
  {
   "cell_type": "code",
   "execution_count": null,
   "metadata": {
    "collapsed": true
   },
   "outputs": [],
   "source": []
  },
  {
   "cell_type": "code",
   "execution_count": null,
   "metadata": {
    "collapsed": true
   },
   "outputs": [],
   "source": []
  },
  {
   "cell_type": "code",
   "execution_count": null,
   "metadata": {
    "collapsed": true
   },
   "outputs": [],
   "source": []
  },
  {
   "cell_type": "code",
   "execution_count": null,
   "metadata": {
    "collapsed": true
   },
   "outputs": [],
   "source": []
  },
  {
   "cell_type": "code",
   "execution_count": null,
   "metadata": {
    "collapsed": true
   },
   "outputs": [],
   "source": []
  },
  {
   "cell_type": "code",
   "execution_count": null,
   "metadata": {
    "collapsed": true
   },
   "outputs": [],
   "source": []
  },
  {
   "cell_type": "code",
   "execution_count": null,
   "metadata": {
    "collapsed": true
   },
   "outputs": [],
   "source": []
  },
  {
   "cell_type": "code",
   "execution_count": null,
   "metadata": {
    "collapsed": true
   },
   "outputs": [],
   "source": []
  },
  {
   "cell_type": "code",
   "execution_count": null,
   "metadata": {
    "collapsed": true
   },
   "outputs": [],
   "source": []
  },
  {
   "cell_type": "code",
   "execution_count": null,
   "metadata": {
    "collapsed": true
   },
   "outputs": [],
   "source": []
  },
  {
   "cell_type": "code",
   "execution_count": null,
   "metadata": {
    "collapsed": true
   },
   "outputs": [],
   "source": []
  },
  {
   "cell_type": "code",
   "execution_count": null,
   "metadata": {
    "collapsed": true
   },
   "outputs": [],
   "source": []
  },
  {
   "cell_type": "code",
   "execution_count": null,
   "metadata": {
    "collapsed": true
   },
   "outputs": [],
   "source": []
  },
  {
   "cell_type": "code",
   "execution_count": null,
   "metadata": {
    "collapsed": true
   },
   "outputs": [],
   "source": []
  },
  {
   "cell_type": "code",
   "execution_count": null,
   "metadata": {
    "collapsed": true
   },
   "outputs": [],
   "source": []
  },
  {
   "cell_type": "code",
   "execution_count": null,
   "metadata": {
    "collapsed": true
   },
   "outputs": [],
   "source": []
  },
  {
   "cell_type": "code",
   "execution_count": null,
   "metadata": {
    "collapsed": true
   },
   "outputs": [],
   "source": []
  },
  {
   "cell_type": "code",
   "execution_count": null,
   "metadata": {
    "collapsed": true
   },
   "outputs": [],
   "source": []
  },
  {
   "cell_type": "code",
   "execution_count": null,
   "metadata": {
    "collapsed": true
   },
   "outputs": [],
   "source": []
  },
  {
   "cell_type": "code",
   "execution_count": null,
   "metadata": {
    "collapsed": true
   },
   "outputs": [],
   "source": []
  },
  {
   "cell_type": "code",
   "execution_count": null,
   "metadata": {
    "collapsed": true
   },
   "outputs": [],
   "source": []
  },
  {
   "cell_type": "code",
   "execution_count": null,
   "metadata": {
    "collapsed": true
   },
   "outputs": [],
   "source": []
  },
  {
   "cell_type": "code",
   "execution_count": null,
   "metadata": {
    "collapsed": true
   },
   "outputs": [],
   "source": []
  },
  {
   "cell_type": "code",
   "execution_count": null,
   "metadata": {
    "collapsed": true
   },
   "outputs": [],
   "source": []
  },
  {
   "cell_type": "code",
   "execution_count": null,
   "metadata": {
    "collapsed": true
   },
   "outputs": [],
   "source": []
  },
  {
   "cell_type": "code",
   "execution_count": null,
   "metadata": {
    "collapsed": true
   },
   "outputs": [],
   "source": []
  },
  {
   "cell_type": "code",
   "execution_count": null,
   "metadata": {
    "collapsed": true
   },
   "outputs": [],
   "source": []
  },
  {
   "cell_type": "code",
   "execution_count": null,
   "metadata": {
    "collapsed": true
   },
   "outputs": [],
   "source": []
  },
  {
   "cell_type": "code",
   "execution_count": null,
   "metadata": {
    "collapsed": true
   },
   "outputs": [],
   "source": []
  },
  {
   "cell_type": "code",
   "execution_count": null,
   "metadata": {
    "collapsed": false
   },
   "outputs": [],
   "source": []
  },
  {
   "cell_type": "code",
   "execution_count": null,
   "metadata": {
    "collapsed": true
   },
   "outputs": [],
   "source": []
  },
  {
   "cell_type": "code",
   "execution_count": null,
   "metadata": {
    "collapsed": true
   },
   "outputs": [],
   "source": []
  },
  {
   "cell_type": "code",
   "execution_count": null,
   "metadata": {
    "collapsed": false
   },
   "outputs": [],
   "source": [
    "\n"
   ]
  },
  {
   "cell_type": "code",
   "execution_count": null,
   "metadata": {
    "collapsed": true
   },
   "outputs": [],
   "source": []
  },
  {
   "cell_type": "code",
   "execution_count": null,
   "metadata": {
    "collapsed": true
   },
   "outputs": [],
   "source": []
  },
  {
   "cell_type": "code",
   "execution_count": null,
   "metadata": {
    "collapsed": true
   },
   "outputs": [],
   "source": []
  },
  {
   "cell_type": "code",
   "execution_count": null,
   "metadata": {
    "collapsed": true
   },
   "outputs": [],
   "source": []
  },
  {
   "cell_type": "code",
   "execution_count": null,
   "metadata": {
    "collapsed": true
   },
   "outputs": [],
   "source": []
  },
  {
   "cell_type": "code",
   "execution_count": null,
   "metadata": {
    "collapsed": true
   },
   "outputs": [],
   "source": []
  },
  {
   "cell_type": "code",
   "execution_count": null,
   "metadata": {
    "collapsed": true
   },
   "outputs": [],
   "source": []
  },
  {
   "cell_type": "code",
   "execution_count": null,
   "metadata": {
    "collapsed": true
   },
   "outputs": [],
   "source": []
  },
  {
   "cell_type": "code",
   "execution_count": null,
   "metadata": {
    "collapsed": true
   },
   "outputs": [],
   "source": []
  },
  {
   "cell_type": "code",
   "execution_count": null,
   "metadata": {
    "collapsed": true
   },
   "outputs": [],
   "source": []
  },
  {
   "cell_type": "code",
   "execution_count": null,
   "metadata": {
    "collapsed": true
   },
   "outputs": [],
   "source": []
  },
  {
   "cell_type": "code",
   "execution_count": null,
   "metadata": {
    "collapsed": true
   },
   "outputs": [],
   "source": []
  },
  {
   "cell_type": "code",
   "execution_count": null,
   "metadata": {
    "collapsed": true
   },
   "outputs": [],
   "source": []
  },
  {
   "cell_type": "code",
   "execution_count": null,
   "metadata": {
    "collapsed": true
   },
   "outputs": [],
   "source": []
  },
  {
   "cell_type": "code",
   "execution_count": null,
   "metadata": {
    "collapsed": true
   },
   "outputs": [],
   "source": []
  },
  {
   "cell_type": "code",
   "execution_count": null,
   "metadata": {
    "collapsed": true
   },
   "outputs": [],
   "source": []
  },
  {
   "cell_type": "code",
   "execution_count": null,
   "metadata": {
    "collapsed": true
   },
   "outputs": [],
   "source": []
  },
  {
   "cell_type": "code",
   "execution_count": null,
   "metadata": {
    "collapsed": true
   },
   "outputs": [],
   "source": []
  },
  {
   "cell_type": "code",
   "execution_count": null,
   "metadata": {
    "collapsed": true
   },
   "outputs": [],
   "source": []
  },
  {
   "cell_type": "code",
   "execution_count": null,
   "metadata": {
    "collapsed": true
   },
   "outputs": [],
   "source": []
  },
  {
   "cell_type": "code",
   "execution_count": null,
   "metadata": {
    "collapsed": true
   },
   "outputs": [],
   "source": []
  },
  {
   "cell_type": "code",
   "execution_count": null,
   "metadata": {
    "collapsed": true
   },
   "outputs": [],
   "source": []
  },
  {
   "cell_type": "code",
   "execution_count": null,
   "metadata": {
    "collapsed": true
   },
   "outputs": [],
   "source": []
  },
  {
   "cell_type": "code",
   "execution_count": null,
   "metadata": {
    "collapsed": true
   },
   "outputs": [],
   "source": []
  },
  {
   "cell_type": "code",
   "execution_count": null,
   "metadata": {
    "collapsed": true
   },
   "outputs": [],
   "source": []
  },
  {
   "cell_type": "code",
   "execution_count": null,
   "metadata": {
    "collapsed": false
   },
   "outputs": [],
   "source": []
  },
  {
   "cell_type": "code",
   "execution_count": null,
   "metadata": {
    "collapsed": true
   },
   "outputs": [],
   "source": []
  },
  {
   "cell_type": "code",
   "execution_count": null,
   "metadata": {
    "collapsed": true
   },
   "outputs": [],
   "source": []
  },
  {
   "cell_type": "code",
   "execution_count": null,
   "metadata": {
    "collapsed": true
   },
   "outputs": [],
   "source": []
  },
  {
   "cell_type": "code",
   "execution_count": null,
   "metadata": {
    "collapsed": true
   },
   "outputs": [],
   "source": []
  },
  {
   "cell_type": "code",
   "execution_count": null,
   "metadata": {
    "collapsed": true
   },
   "outputs": [],
   "source": []
  },
  {
   "cell_type": "code",
   "execution_count": null,
   "metadata": {
    "collapsed": true
   },
   "outputs": [],
   "source": []
  },
  {
   "cell_type": "code",
   "execution_count": null,
   "metadata": {
    "collapsed": true
   },
   "outputs": [],
   "source": []
  },
  {
   "cell_type": "code",
   "execution_count": null,
   "metadata": {
    "collapsed": true
   },
   "outputs": [],
   "source": []
  },
  {
   "cell_type": "code",
   "execution_count": null,
   "metadata": {
    "collapsed": true
   },
   "outputs": [],
   "source": []
  },
  {
   "cell_type": "code",
   "execution_count": null,
   "metadata": {
    "collapsed": true
   },
   "outputs": [],
   "source": []
  },
  {
   "cell_type": "code",
   "execution_count": null,
   "metadata": {
    "collapsed": true
   },
   "outputs": [],
   "source": []
  },
  {
   "cell_type": "code",
   "execution_count": null,
   "metadata": {
    "collapsed": true
   },
   "outputs": [],
   "source": []
  },
  {
   "cell_type": "code",
   "execution_count": null,
   "metadata": {
    "collapsed": true
   },
   "outputs": [],
   "source": []
  },
  {
   "cell_type": "code",
   "execution_count": null,
   "metadata": {
    "collapsed": true
   },
   "outputs": [],
   "source": []
  },
  {
   "cell_type": "code",
   "execution_count": null,
   "metadata": {
    "collapsed": true
   },
   "outputs": [],
   "source": []
  },
  {
   "cell_type": "code",
   "execution_count": null,
   "metadata": {
    "collapsed": true
   },
   "outputs": [],
   "source": []
  },
  {
   "cell_type": "code",
   "execution_count": null,
   "metadata": {
    "collapsed": true
   },
   "outputs": [],
   "source": []
  },
  {
   "cell_type": "code",
   "execution_count": null,
   "metadata": {
    "collapsed": true
   },
   "outputs": [],
   "source": []
  },
  {
   "cell_type": "code",
   "execution_count": null,
   "metadata": {
    "collapsed": true
   },
   "outputs": [],
   "source": []
  },
  {
   "cell_type": "code",
   "execution_count": null,
   "metadata": {
    "collapsed": true
   },
   "outputs": [],
   "source": []
  },
  {
   "cell_type": "code",
   "execution_count": null,
   "metadata": {
    "collapsed": true
   },
   "outputs": [],
   "source": []
  },
  {
   "cell_type": "code",
   "execution_count": null,
   "metadata": {
    "collapsed": true
   },
   "outputs": [],
   "source": []
  },
  {
   "cell_type": "code",
   "execution_count": null,
   "metadata": {
    "collapsed": true
   },
   "outputs": [],
   "source": []
  },
  {
   "cell_type": "code",
   "execution_count": null,
   "metadata": {
    "collapsed": true
   },
   "outputs": [],
   "source": []
  },
  {
   "cell_type": "code",
   "execution_count": null,
   "metadata": {
    "collapsed": true
   },
   "outputs": [],
   "source": []
  },
  {
   "cell_type": "code",
   "execution_count": null,
   "metadata": {
    "collapsed": true
   },
   "outputs": [],
   "source": []
  },
  {
   "cell_type": "code",
   "execution_count": null,
   "metadata": {
    "collapsed": true
   },
   "outputs": [],
   "source": []
  },
  {
   "cell_type": "code",
   "execution_count": null,
   "metadata": {
    "collapsed": true
   },
   "outputs": [],
   "source": []
  },
  {
   "cell_type": "code",
   "execution_count": null,
   "metadata": {
    "collapsed": true
   },
   "outputs": [],
   "source": []
  },
  {
   "cell_type": "code",
   "execution_count": null,
   "metadata": {
    "collapsed": true
   },
   "outputs": [],
   "source": []
  },
  {
   "cell_type": "code",
   "execution_count": null,
   "metadata": {
    "collapsed": true
   },
   "outputs": [],
   "source": []
  },
  {
   "cell_type": "code",
   "execution_count": null,
   "metadata": {
    "collapsed": true
   },
   "outputs": [],
   "source": []
  },
  {
   "cell_type": "code",
   "execution_count": null,
   "metadata": {
    "collapsed": true
   },
   "outputs": [],
   "source": []
  },
  {
   "cell_type": "code",
   "execution_count": null,
   "metadata": {
    "collapsed": true
   },
   "outputs": [],
   "source": []
  },
  {
   "cell_type": "code",
   "execution_count": null,
   "metadata": {
    "collapsed": true
   },
   "outputs": [],
   "source": []
  },
  {
   "cell_type": "code",
   "execution_count": null,
   "metadata": {
    "collapsed": true
   },
   "outputs": [],
   "source": []
  },
  {
   "cell_type": "code",
   "execution_count": null,
   "metadata": {
    "collapsed": true
   },
   "outputs": [],
   "source": []
  },
  {
   "cell_type": "code",
   "execution_count": null,
   "metadata": {
    "collapsed": true
   },
   "outputs": [],
   "source": []
  },
  {
   "cell_type": "code",
   "execution_count": null,
   "metadata": {
    "collapsed": true
   },
   "outputs": [],
   "source": []
  },
  {
   "cell_type": "code",
   "execution_count": null,
   "metadata": {
    "collapsed": true
   },
   "outputs": [],
   "source": []
  },
  {
   "cell_type": "code",
   "execution_count": null,
   "metadata": {
    "collapsed": true
   },
   "outputs": [],
   "source": []
  },
  {
   "cell_type": "code",
   "execution_count": null,
   "metadata": {
    "collapsed": true
   },
   "outputs": [],
   "source": []
  },
  {
   "cell_type": "code",
   "execution_count": null,
   "metadata": {
    "collapsed": true
   },
   "outputs": [],
   "source": []
  },
  {
   "cell_type": "code",
   "execution_count": null,
   "metadata": {
    "collapsed": true
   },
   "outputs": [],
   "source": []
  },
  {
   "cell_type": "code",
   "execution_count": null,
   "metadata": {
    "collapsed": true
   },
   "outputs": [],
   "source": []
  },
  {
   "cell_type": "code",
   "execution_count": null,
   "metadata": {
    "collapsed": true
   },
   "outputs": [],
   "source": []
  },
  {
   "cell_type": "code",
   "execution_count": null,
   "metadata": {
    "collapsed": true
   },
   "outputs": [],
   "source": []
  },
  {
   "cell_type": "code",
   "execution_count": null,
   "metadata": {
    "collapsed": true
   },
   "outputs": [],
   "source": []
  },
  {
   "cell_type": "code",
   "execution_count": null,
   "metadata": {
    "collapsed": true
   },
   "outputs": [],
   "source": []
  },
  {
   "cell_type": "code",
   "execution_count": null,
   "metadata": {
    "collapsed": true
   },
   "outputs": [],
   "source": []
  },
  {
   "cell_type": "code",
   "execution_count": null,
   "metadata": {
    "collapsed": true
   },
   "outputs": [],
   "source": []
  },
  {
   "cell_type": "code",
   "execution_count": null,
   "metadata": {
    "collapsed": true
   },
   "outputs": [],
   "source": []
  },
  {
   "cell_type": "code",
   "execution_count": null,
   "metadata": {
    "collapsed": true
   },
   "outputs": [],
   "source": []
  },
  {
   "cell_type": "code",
   "execution_count": null,
   "metadata": {
    "collapsed": true
   },
   "outputs": [],
   "source": []
  },
  {
   "cell_type": "code",
   "execution_count": null,
   "metadata": {
    "collapsed": true
   },
   "outputs": [],
   "source": []
  },
  {
   "cell_type": "code",
   "execution_count": null,
   "metadata": {
    "collapsed": true
   },
   "outputs": [],
   "source": []
  },
  {
   "cell_type": "code",
   "execution_count": null,
   "metadata": {
    "collapsed": true
   },
   "outputs": [],
   "source": []
  },
  {
   "cell_type": "code",
   "execution_count": null,
   "metadata": {
    "collapsed": true
   },
   "outputs": [],
   "source": []
  },
  {
   "cell_type": "code",
   "execution_count": null,
   "metadata": {
    "collapsed": false
   },
   "outputs": [],
   "source": []
  },
  {
   "cell_type": "code",
   "execution_count": null,
   "metadata": {
    "collapsed": true
   },
   "outputs": [],
   "source": []
  },
  {
   "cell_type": "code",
   "execution_count": null,
   "metadata": {
    "collapsed": true
   },
   "outputs": [],
   "source": []
  },
  {
   "cell_type": "code",
   "execution_count": null,
   "metadata": {
    "collapsed": true
   },
   "outputs": [],
   "source": []
  },
  {
   "cell_type": "code",
   "execution_count": null,
   "metadata": {
    "collapsed": true
   },
   "outputs": [],
   "source": []
  },
  {
   "cell_type": "code",
   "execution_count": null,
   "metadata": {
    "collapsed": true
   },
   "outputs": [],
   "source": []
  },
  {
   "cell_type": "code",
   "execution_count": null,
   "metadata": {
    "collapsed": true
   },
   "outputs": [],
   "source": []
  },
  {
   "cell_type": "code",
   "execution_count": null,
   "metadata": {
    "collapsed": true
   },
   "outputs": [],
   "source": []
  },
  {
   "cell_type": "code",
   "execution_count": null,
   "metadata": {
    "collapsed": true
   },
   "outputs": [],
   "source": []
  },
  {
   "cell_type": "code",
   "execution_count": null,
   "metadata": {
    "collapsed": true
   },
   "outputs": [],
   "source": []
  },
  {
   "cell_type": "code",
   "execution_count": null,
   "metadata": {
    "collapsed": true
   },
   "outputs": [],
   "source": []
  },
  {
   "cell_type": "code",
   "execution_count": null,
   "metadata": {
    "collapsed": true
   },
   "outputs": [],
   "source": []
  },
  {
   "cell_type": "code",
   "execution_count": null,
   "metadata": {
    "collapsed": true
   },
   "outputs": [],
   "source": []
  },
  {
   "cell_type": "code",
   "execution_count": null,
   "metadata": {
    "collapsed": true
   },
   "outputs": [],
   "source": []
  },
  {
   "cell_type": "code",
   "execution_count": null,
   "metadata": {
    "collapsed": true
   },
   "outputs": [],
   "source": []
  },
  {
   "cell_type": "code",
   "execution_count": null,
   "metadata": {
    "collapsed": true
   },
   "outputs": [],
   "source": []
  },
  {
   "cell_type": "code",
   "execution_count": null,
   "metadata": {
    "collapsed": true
   },
   "outputs": [],
   "source": []
  },
  {
   "cell_type": "code",
   "execution_count": null,
   "metadata": {
    "collapsed": true
   },
   "outputs": [],
   "source": []
  },
  {
   "cell_type": "code",
   "execution_count": null,
   "metadata": {
    "collapsed": true
   },
   "outputs": [],
   "source": []
  },
  {
   "cell_type": "code",
   "execution_count": null,
   "metadata": {
    "collapsed": true
   },
   "outputs": [],
   "source": []
  },
  {
   "cell_type": "code",
   "execution_count": null,
   "metadata": {
    "collapsed": true
   },
   "outputs": [],
   "source": []
  },
  {
   "cell_type": "code",
   "execution_count": null,
   "metadata": {
    "collapsed": true
   },
   "outputs": [],
   "source": []
  },
  {
   "cell_type": "code",
   "execution_count": null,
   "metadata": {
    "collapsed": true
   },
   "outputs": [],
   "source": []
  },
  {
   "cell_type": "code",
   "execution_count": null,
   "metadata": {
    "collapsed": true
   },
   "outputs": [],
   "source": []
  },
  {
   "cell_type": "code",
   "execution_count": null,
   "metadata": {
    "collapsed": true
   },
   "outputs": [],
   "source": []
  },
  {
   "cell_type": "code",
   "execution_count": null,
   "metadata": {
    "collapsed": true
   },
   "outputs": [],
   "source": []
  },
  {
   "cell_type": "code",
   "execution_count": null,
   "metadata": {
    "collapsed": true
   },
   "outputs": [],
   "source": []
  },
  {
   "cell_type": "code",
   "execution_count": null,
   "metadata": {
    "collapsed": true
   },
   "outputs": [],
   "source": []
  },
  {
   "cell_type": "code",
   "execution_count": null,
   "metadata": {
    "collapsed": true
   },
   "outputs": [],
   "source": []
  },
  {
   "cell_type": "code",
   "execution_count": null,
   "metadata": {
    "collapsed": true
   },
   "outputs": [],
   "source": []
  },
  {
   "cell_type": "code",
   "execution_count": null,
   "metadata": {
    "collapsed": true
   },
   "outputs": [],
   "source": []
  },
  {
   "cell_type": "code",
   "execution_count": null,
   "metadata": {
    "collapsed": true
   },
   "outputs": [],
   "source": []
  },
  {
   "cell_type": "code",
   "execution_count": null,
   "metadata": {
    "collapsed": true
   },
   "outputs": [],
   "source": []
  },
  {
   "cell_type": "code",
   "execution_count": null,
   "metadata": {
    "collapsed": true
   },
   "outputs": [],
   "source": []
  },
  {
   "cell_type": "code",
   "execution_count": null,
   "metadata": {
    "collapsed": true
   },
   "outputs": [],
   "source": []
  },
  {
   "cell_type": "code",
   "execution_count": null,
   "metadata": {
    "collapsed": true
   },
   "outputs": [],
   "source": []
  },
  {
   "cell_type": "code",
   "execution_count": null,
   "metadata": {
    "collapsed": true
   },
   "outputs": [],
   "source": []
  }
 ],
 "metadata": {
  "anaconda-cloud": {},
  "kernelspec": {
   "display_name": "Python [Root]",
   "language": "python",
   "name": "Python [Root]"
  },
  "language_info": {
   "codemirror_mode": {
    "name": "ipython",
    "version": 3
   },
   "file_extension": ".py",
   "mimetype": "text/x-python",
   "name": "python",
   "nbconvert_exporter": "python",
   "pygments_lexer": "ipython3",
   "version": "3.5.2"
  }
 },
 "nbformat": 4,
 "nbformat_minor": 0
}
